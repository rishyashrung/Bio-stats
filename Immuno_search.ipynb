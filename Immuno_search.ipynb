{
 "cells": [
  {
   "cell_type": "code",
   "execution_count": 1,
   "metadata": {},
   "outputs": [],
   "source": [
    "import pandas as pd\n",
    "import numpy as np\n",
    "import csv\n",
    "from Bio import SeqIO\n",
    "import os"
   ]
  },
  {
   "cell_type": "code",
   "execution_count": 2,
   "metadata": {},
   "outputs": [],
   "source": [
    "#functions \n",
    "\n",
    "#fn for creating files from a list and file_name\n",
    "def create_files(pep, file_name):\n",
    "\n",
    "    ofile = open(file_name + \".fasta\", \"w\")\n",
    "\n",
    "    for i in range(len(pep)):\n",
    "        ofile.write('>' + '\\n' + pep[i] + '\\n')\n",
    "    ofile.close()\n",
    "\n",
    "    # peptide list for parsing\n",
    "    ofile = open(file_name + '_2.fasta', \"w\")\n",
    "\n",
    "    for i in range(len(pep)):\n",
    "        ofile.write(pep[i] + '\\n')\n",
    "    ofile.close()\n",
    "    \n",
    "    return print(\"\\t\" + \"files\", file_name, \",\", file_name + '_2', \"created\" )\n",
    "\n",
    "#fn for parsing and categorizing blast output\n",
    "def parse_categorize(database_fasta, blast_out, fasta2): #requires inputs with file extension\n",
    "\n",
    "    input1= SeqIO.parse(database_fasta,\"fasta\") # blastp reference database\n",
    "    seqdb={}\n",
    "    for record in input1:\n",
    "        seq=str(record.seq)\n",
    "        if record.id not in seqdb:\n",
    "            seqdb[record.id]=seq\n",
    "\n",
    "    input2= open(blast_out,\"r\") # blastp output\n",
    "    input3= open(fasta2,\"r\") # novel peptide tab txt\n",
    "    output= open('categorized_' + blast_out,\"w\")\n",
    "\n",
    "\n",
    "    blastout={}\n",
    "    hits_dic={}\n",
    "    for line in input2:\n",
    "        row=line.strip().split(\"\\t\")\n",
    "        qid=row[-2]\n",
    "        sid=row[1]\n",
    "        sseq=seqdb[sid]\n",
    "        ident=row[2]\n",
    "        peplen=int(row[3])\n",
    "        mismatch=row[4]\n",
    "        alignlen=int(row[6])-int(row[5])+1\n",
    "        sstart=int(row[7])\n",
    "        send=int(row[8])\n",
    "        gap=row[11]\n",
    "        evalue=float(row[-5])\n",
    "        alignseq=row[-1]\n",
    "        category=\"NA\"\n",
    "        single_sub_pos=\"NA\"\n",
    "        if sstart>3:\n",
    "            Nterm_seq=sseq[sstart-4:sstart+2] #check up 3 amino acid before N-term of this peptide\n",
    "        else:\n",
    "            Nterm_seq=sseq[:sstart]\n",
    "\n",
    "        if len(sseq)-send<3:\n",
    "            Cterm_seq=sseq[send-1:]\n",
    "        else:\n",
    "            Cterm_seq=sseq[send-3:send+3]\n",
    "\n",
    "        if alignlen==peplen:\n",
    "            if float(ident)==100:\n",
    "                category=\"match to known protein\"\n",
    "            \n",
    "            elif int(gap)==0 and int(mismatch)==1:\n",
    "                category=\"map to known protein with 1 aa mismatch\"\n",
    "                for i in range(peplen):\n",
    "                    if qid[i]!=alignseq[i]:\n",
    "                        single_sub_pos=str(i+1)\n",
    "\n",
    "            elif int(gap)==1 and int(mismatch)==0:\n",
    "                category=\"map to known protein with 1 aa insertion\"\n",
    "            else:\n",
    "                category=\"novelpep (map to known protein with more than 2 mismatched aa)\"\n",
    "        elif peplen-alignlen==1 and float(ident)==100:\n",
    "            category=\"map to known protein with 1 aa deletion\"\n",
    "\n",
    "        else:\n",
    "            category=\"novelpep (map to known protein with more than 2 mismatched aa)\"\n",
    "        \n",
    "        if qid not in hits_dic:\n",
    "            hits_dic[qid]=evalue\n",
    "            blastout[qid]=[category,sid,ident,peplen,single_sub_pos,Nterm_seq,alignseq,Cterm_seq,alignlen,mismatch,gap]\n",
    "        else:\n",
    "            if evalue<hits_dic[qid]:\n",
    "                hits_dic[qid]=evalue\n",
    "                blastout[qid]=[category,sid,ident,peplen,single_sub_pos,Nterm_seq,alignseq,Cterm_seq,alignlen,mismatch,gap]\n",
    "\n",
    "    #header=input3.readline().strip().split(\"\\t\")\n",
    "\n",
    "    header=[\"Query\",\"blastp_category\",\"blastp_match\",\"identity\",\"peplen\",\"sub_pos\",\"Nterm-seq(3aa)\",\"aligned_seq\",\"Cterm-seq(3aa)\",\"alignlen\",\"mismatch\",\"gap\"]\n",
    "    output.write(\"\\t\".join(header)+\"\\n\")\n",
    "\n",
    "    for line in input3:\n",
    "        row=line.strip().split(\"\\t\")\n",
    "        peptide=row[0]\n",
    "        if peptide in blastout:\n",
    "            results=blastout[row[0]]\n",
    "            newrow=row+results\n",
    "            output.write(\"\\t\".join(map(str,newrow))+\"\\n\")\n",
    "        else:\n",
    "            newrow=row+[\"novelpep (no match to known protein found)\",\"NA\",\"NA\",\"NA\",\"NA\",\"NA\",\"NA\",\"NA\",\"NA\",\"NA\",\"NA\"]\n",
    "            output.write(\"\\t\".join(map(str,newrow))+\"\\n\")\n",
    "\n",
    "\n",
    "    input2.close()\n",
    "    input3.close()\n",
    "    output.close()\n",
    "   \n",
    "    #adding headers to the novel blast output\n",
    "    header_names = [\"qseqid\", \"sseqid\", \"pident\", \"qlen\", \"mismatch\", \"qstart\", \"qend\", \"sstart\", \"send\", \"evalue\", \"bitscore\", \"gaps\", \"qseq\", \"sseq\"]\n",
    "    novel_file = pd.read_table('categorized_' + blast_out, sep ='\\t', names = header_names)\n",
    "    header_names = [\"qseqid\", \"sseqid\", \"pident\", \"qlen\", \"mismatch\", \"qstart\", \"qend\", \"sstart\", \"send\", \"evalue\", \"bitscore\", \"gaps\", \"qseq\", \"sseq\"]\n",
    "    blast_file = pd.read_table(blast_out, sep ='\\t', names = header_names)\n",
    "    blast_file\n",
    "    #to check if any keys are missing in the dictionary seqdb[]\n",
    "    missing = blast_file[~blast_file[\"sseqid\"].isin(seqdb.keys())]\n",
    "    if (len(missing) == 0):\n",
    "        return print(\"\\t\"+ 'all is gud for',blast_out)\n",
    "    else:\n",
    "        return print('dictionary error') #make sure the dictionary key is the same as the accession in\n",
    "    \n",
    "#fn that gets matches from peptide_list to fasta\n",
    "def find_matches(peptide, db):\n",
    "    search_6ft = {}\n",
    "    for string in peptide:\n",
    "        search_6ft[string] = []\n",
    "        for key, value in db.items():\n",
    "            if string in value:\n",
    "                    search_6ft[string].append((key))\n",
    "    \n",
    "    unmatched = []\n",
    "    #fn for filtering the 6FT matched dictionary\n",
    "    def my_filtering_function(pair):\n",
    "        key, value = pair\n",
    "        if value == []:\n",
    "            return False  # filter pair out of the dictionary\n",
    "        else:\n",
    "            return True  # keep pair in the filtered dictionary\n",
    "        \n",
    "    matched = dict(filter(my_filtering_function, search_6ft.items()))\n",
    "\n",
    "    for key, value in search_6ft.items():\n",
    "        if (value == []):\n",
    "            unmatched.append(key)\n",
    "    if (len(matched) + len(unmatched) == len(search_6ft)):  #to make sure the dictionary filter works fine\n",
    "        return (matched, unmatched)\n",
    "    else:\n",
    "        return print(\"\\t\" + \"error in separating 6FT matches\")\n",
    "\n",
    "# main search function"
   ]
  },
  {
   "cell_type": "code",
   "execution_count": 30,
   "metadata": {
    "vscode": {
     "languageId": "shellscript"
    }
   },
   "outputs": [],
   "source": [
    "#make databse from known HLA peptides fasta file\n",
    "#!makeblastdb -in db/APD_Hs_all.fasta -dbtype prot -out db/APD_Hs_all\n",
    "\n",
    "#make blast database from fasta\n",
    "#!makeblastdb -in db/human_canonical.fasta  -dbtype prot -parse_seqids -out db/human_canonical\n",
    "\n",
    "#Make sixframe translated database from ref genome\n",
    "#!gedi -e SixFrame "
   ]
  },
  {
   "cell_type": "code",
   "execution_count": 3,
   "metadata": {},
   "outputs": [],
   "source": [
    "def immuno_search(input_file_path, MHC_class, gibbs_cluster, output_file_path, file_name):   #path of files of peptides and gibbs classification, MHC_class as an integer, Gibbs clusters to select as an array, output_file_path with / at the end\n",
    "    \n",
    "    # peptide length 8-11, removing gibbs junk and DB matched\n",
    "    all_data = pd.ExcelFile(input_file_path)\n",
    "    data = pd.read_excel(all_data, file_name)\n",
    "    gibbs = pd.read_excel(all_data, 'gibbs_clustering')\n",
    "    #data = pd.read_csv(path_peptides) #PSM table from PEAKS\n",
    "    #gibbs = pd.read_csv(path_gibbs) #Gibbs clustering CSV\n",
    "    print(\"filtering peptides found by DB search\")\n",
    "    data = data[data[\"Found By\"] != 'DB Search']\n",
    "    if (len(gibbs_cluster) != 0):\n",
    "        print(\"Selected gibbs clusters based on input\")\n",
    "        gibbs = gibbs[gibbs[\"Gn\"].isin(gibbs_cluster)]\n",
    "    else:\n",
    "        print(\"Selecting all gibbs clusters\")\n",
    "        gibbs = gibbs\n",
    "    \n",
    "    if (MHC_class == '1'):\n",
    "        print(\"selecting peptides with length between 8 and 11 AA\")\n",
    "        gibbs = gibbs[gibbs[\"Sequence\"].str.len().between(8,11)]\n",
    "    elif (MHC_class == '2'):\n",
    "        print(\"selecting peptides with length between 12 and 17 AA\")\n",
    "        gibbs = gibbs[gibbs[\"Sequence\"].str.len().between(12,17)]\n",
    "    elif (MHC_class == \"E\"):\n",
    "        print(\"selecting peptides with length between 8 and 15 AA\")\n",
    "        gibbs = gibbs[gibbs[\"Sequence\"].str.len().between(8,15)]\n",
    "    else:\n",
    "        print(\"!!! not filtered by length\")\n",
    "\n",
    "    data = data[data[\"Peptide\"].isin(gibbs[\"Sequence\"])]\n",
    "    list = pd.unique(data[\"Peptide\"])\n",
    "    pep = list.tolist()\n",
    "    blast_p = pep\n",
    "    print(\"generating lists and files for further analysis\")\n",
    "    create_files(pep,'peptides')\n",
    "\n",
    "\n",
    "    #blast against canonical HLA peptides\n",
    "    if(len(pep) != 0):\n",
    "\n",
    "        if(len(pep) == 1): #coz I'm a grammar Nazi :)\n",
    "            print(str(len(pep)) + \" peptide being searched for known HLAs\")\n",
    "        else:\n",
    "            print( str(len(pep)) + \" peptides being searched for known HLAs\")\n",
    "        \n",
    "        !blastp -task blastp-short -query peptides.fasta -db db/APD_Hs_all -out HLA_blast_out -evalue 10.0 -outfmt \"6 qseqid saccver pident qlen mismatch qstart qend sstart send evalue bitscore gaps qseq sseq\"\n",
    "\n",
    "        #parsing and catergorizing HLA_blast output\n",
    "        print(\"\\t\"+ \"reading output\")\n",
    "        parse_categorize('db/APD_Hs_all.fasta', 'HLA_blast_out', 'peptides_2.fasta')\n",
    "\n",
    "        #known HLA\n",
    "        print(\"\\t\"+ \"generating lists and files for further analysis\")\n",
    "        output_HLA = pd.read_table('categorized_HLA_blast_out')\n",
    "        known = output_HLA[output_HLA[\"blastp_category\"] == 'match to known protein']\n",
    "        list = known[\"Query\"] \n",
    "        pep = list.to_list()\n",
    "\n",
    "        if (len(pep) != 0):\n",
    "            print(\"\\t\"+ \"known HLA found\")\n",
    "            ofile = open(\"known_HLA.fasta\", \"w\")\n",
    "\n",
    "            for i in range(len(pep)):\n",
    "                ofile.write('>' + '\\n' + pep[i] + '\\n')\n",
    "            ofile.close()\n",
    "        else:\n",
    "            print(\"\\t\"+ \"no known HLA found\")\n",
    "\n",
    "        known = output_HLA[output_HLA[\"blastp_category\"] != 'match to known protein']\n",
    "        list = known[\"Query\"] \n",
    "        pep = list.to_list()\n",
    "    else:\n",
    "        print(\"No peptides to search for known HLAs\")\n",
    "\n",
    "    \n",
    "    if (len(pep) != 0): #to prevent blast with empty query\n",
    "        \n",
    "        create_files(pep, 'to_blastp')\n",
    "\n",
    "        if (len(pep) == 1):\n",
    "            print(str(len(pep)) + \" peptide being searched for human canonical proteins\")\n",
    "        else:\n",
    "            print(str(len(pep)) + \" peptides being searched for human canonical proteins\")\n",
    "        \n",
    "        #blast all proteins against human canonical proteins\n",
    "        !blastp -task blastp-short -query to_blastp.fasta -db db/human_canonical -out blastp_out_human_canonical -evalue 10.0 -outfmt \"6 qseqid sseqid pident qlen mismatch qstart qend sstart send evalue bitscore gaps qseq sseq\"\n",
    "        print(\"\\t\"+ \"reading output\")\n",
    "        parse_categorize('db/human_canonical.fasta', 'blastp_out_human_canonical', 'to_blastp_2.fasta')\n",
    "        output  = pd.read_table('categorized_blastp_out_human_canonical')\n",
    "        \n",
    "        #preparing fasta files of proteins to search 6FT database\n",
    "        to_6ft = output[(output[\"blastp_category\"] != 'map to known protein with 1 aa mismatch') & (output[\"blastp_category\"] != 'match to known protein')]\n",
    "        list = to_6ft[\"Query\"] \n",
    "        pep = list.to_list()\n",
    "\n",
    "        create_files(pep, 'to_6ft')\n",
    "       \n",
    "        #preparing fasta files of proteins with 1 AA mismatch\n",
    "        mismatched = output[output[\"blastp_category\"] == 'map to known protein with 1 aa mismatch']\n",
    "        list = mismatched[\"Query\"] \n",
    "        pep = list.to_list()\n",
    "        SAAV = pep\n",
    "    else:\n",
    "        print(\"blastp input empty\")\n",
    "\n",
    "    print(\"\\t\"+ \"generating lists and files for further analysis\")\n",
    "    \n",
    "    \n",
    "    if (len(pep) != 0): #to prevent blast with empty query\n",
    "\n",
    "        create_files(pep,'SAAV')\n",
    "        \n",
    "        if (len(pep) == 1):  #more grammar Nazi\n",
    "            print(str(len(pep)) + \" peptide being searched for Single Amino Acid Variants\")\n",
    "        else:\n",
    "            print(str(len(pep)) + \" peptides being searched for Single Amino Acid Variants\")\n",
    "            \n",
    "        #blastp against db_SAP (single amino acids polymorphisms)\n",
    "        !blastp -task blastp-short -query SAAV.fasta -db db/sap_db -out blast_out_SAAV -evalue 10.0 -outfmt \"6 qseqid saccver pident qlen mismatch qstart qend sstart send evalue bitscore gaps qseq sseq\"\n",
    "        \n",
    "        print(\"\\t\"+ \"reading output\")\n",
    "        parse_categorize('db/sap_db.fa', 'blast_out_SAAV', 'SAAV_2.fasta')\n",
    "\n",
    "\n",
    "        output = pd.read_table(\"categorized_blast_out_SAAV\")\n",
    "        not_SNP = output[output[\"blastp_category\"] != 'match to known protein']\n",
    "        pep = not_SNP[\"Query\"]\n",
    "        pep = pep.to_list()\n",
    "\n",
    "        ofile = open(\"not_SAAV.fasta\", \"w\")\n",
    "\n",
    "        for i in range(len(pep)):\n",
    "            ofile.write('>' + '\\n' + pep[i] + '\\n')\n",
    "        ofile.close()\n",
    "\n",
    "    else:\n",
    "        print(\"no potential SAAVs, proceeding to 6FT search\")\n",
    "\n",
    "    #searches peptides in 6FT db\n",
    "    \n",
    "    pep = to_6ft[\"Query\"]\n",
    "\n",
    "    if(len(pep) != 0):\n",
    "\n",
    "        if(len(pep) == 1):\n",
    "            \n",
    "            print(str(len(pep)) + \" peptide being searched in the six frame translated human genome\")\n",
    "            \n",
    "            !seqkit grep --by-seq --ignore-case --threads 12 --seq-type protein --pattern-file to_6ft_2.fasta db/human_6FT_m.fasta > 6ft_out\n",
    "            \n",
    "            input1= SeqIO.parse('6ft_out',\"fasta\") # 6FT results to dict\n",
    "            seqdb={}\n",
    "            for record in input1:\n",
    "                seq=str(record.seq)\n",
    "                if record.description not in seqdb:\n",
    "                    seqdb[record.description]=seq\n",
    "            \n",
    "            if (len(seqdb) == 0):\n",
    "                print(\"no match to 6FT\")\n",
    "                unmatched = pep\n",
    "                matched = []\n",
    "            else:\n",
    "                matched = pep\n",
    "                unmatched = []\n",
    "\n",
    "        else:\n",
    "            print(str(len(pep)) + \" peptides being searched in the six frame translated human genome\")\n",
    "\n",
    "            !seqkit grep --by-seq --ignore-case --threads 12 --seq-type protein --pattern-file to_6ft_2.fasta db/human_6FT_m.fasta > 6ft_out\n",
    "\n",
    "            print(\"\\t\"+ \"writing 6FT results to dictionary\")\n",
    "\n",
    "            input1= SeqIO.parse('6ft_out',\"fasta\") # 6FT results to dict\n",
    "            seqdb={}\n",
    "            for record in input1:\n",
    "                seq=str(record.seq)\n",
    "                if record.description not in seqdb:\n",
    "                    seqdb[record.description]=seq\n",
    "                    \n",
    "            print(\"\\t\"+ \"number of matches from 6FT:\", len(seqdb))\n",
    "\n",
    "            input  = open('to_6ft_2.fasta', 'r') #list of peptides, has to be in a list\n",
    "            pep = []\n",
    "            for line in input:\n",
    "                    pep = pep + line.strip().split(\"\\t\")\n",
    "\n",
    "            print(\"\\t\"+ \"matching peptides to 6FT\")\n",
    "\n",
    "            matched, unmatched = find_matches(pep, seqdb)\n",
    "            \n",
    "            if len(matched) == 0:\n",
    "                print(\"\\t\"+ \"no peptides matched to 6ft\")\n",
    "            else:\n",
    "                print(\"\\t\"+ \"writing \" + str(len(matched)) + \" peptide matches to 6FT\")\n",
    "                with open('matches_to_6ft.csv','w') as f:\n",
    "                    w = csv.writer(f)\n",
    "                    w.writerows(matched.items())\n",
    "\n",
    "            print(\"\\t\"+ \"writing \" + str(len(unmatched)) + \" unmatched peptides\")\n",
    "            create_files(unmatched, 'no_match_6ft')\n",
    "\n",
    "    else:\n",
    "        print(\"no peptides to search in 6FT\")\n",
    "    \n",
    "    #saving output files\n",
    "    SAAV_out = pd.read_table('categorized_blast_out_SAAV', sep = \"\\t\")\n",
    "    Sixframe_out = pd.read_csv('matches_to_6ft.csv', names = [\"Peptides\", \"Matches\"])\n",
    "    Sixframe_notmatched = pd.read_table('no_match_6ft_2.fasta', sep = \"\\t\", names = [\"Peptides\"])\n",
    "\n",
    "    #writing data to excel file\n",
    "    if (len(mismatched) == 0 & len(matched) == 0 & len(unmatched) == 0):\n",
    "        print(\"No significant peptides found\")\n",
    "        \n",
    "    else:\n",
    "        \n",
    "        #creates output directory\n",
    "        try:\n",
    "            os.makedirs(output_file_path)\n",
    "            os.chdir(output_file_path)\n",
    "            print(\"Search directory created at \" + os.getcwd())\n",
    "        except OSError as error:\n",
    "            os.chdir(output_file_path)\n",
    "            print(\"Directory already exists at \" + os.getcwd())\n",
    "            \n",
    "        print(\"Creating excel file with results\")\n",
    "        with pd.ExcelWriter(file_name + '_immuno_search_out.xlsx', engine='openpyxl') as writer:\n",
    "            # Write each DataFrame to a different sheet\n",
    "            if (len(mismatched) != 0):\n",
    "                SAAV_out.to_excel(writer, sheet_name='Single_AA_variants', index=False)\n",
    "            if (len(matched) != 0):\n",
    "                Sixframe_out.to_excel(writer, sheet_name='Matches_to_six_frame', index=False)\n",
    "            if (len(unmatched) != 0):\n",
    "                Sixframe_notmatched.to_excel(writer, sheet_name='Six_frame_non_matched', index=False)\n",
    "\n",
    "        os.chdir('D:/Period_6/')\n",
    "        return print(\"search and classification done, file saved at \", output_file_path + file_name + '_immuno_search_out.xlsx')\n",
    "        "
   ]
  },
  {
   "cell_type": "code",
   "execution_count": 4,
   "metadata": {},
   "outputs": [
    {
     "name": "stdout",
     "output_type": "stream",
     "text": [
      "filtering peptides found by DB search\n",
      "Selected gibbs clusters based on input\n",
      "selecting peptides with length between 8 and 15 AA\n",
      "generating lists and files for further analysis\n",
      "\tfiles peptides , peptides_2 created\n",
      "145 peptides being searched for known HLAs\n",
      "\treading output\n",
      "\tall is gud for HLA_blast_out\n",
      "\tgenerating lists and files for further analysis\n",
      "\tknown HLA found\n",
      "\tfiles to_blastp , to_blastp_2 created\n",
      "135 peptides being searched for human canonical proteins\n",
      "\treading output\n",
      "\tall is gud for blastp_out_human_canonical\n",
      "\tfiles to_6ft , to_6ft_2 created\n",
      "\tgenerating lists and files for further analysis\n",
      "\tfiles SAAV , SAAV_2 created\n",
      "7 peptides being searched for Single Amino Acid Variants\n",
      "\treading output\n",
      "\tall is gud for blast_out_SAAV\n",
      "128 peptides being searched in the six frame translated human genome\n",
      "\twriting 6FT results to dictionary\n"
     ]
    },
    {
     "name": "stderr",
     "output_type": "stream",
     "text": [
      "[INFO]\u001b[0m 128 patterns loaded from file"
     ]
    },
    {
     "name": "stdout",
     "output_type": "stream",
     "text": [
      "\tnumber of matches from 6FT: 280\n",
      "\tmatching peptides to 6FT\n",
      "\twriting 4 peptide matches to 6FT\n"
     ]
    },
    {
     "name": "stderr",
     "output_type": "stream",
     "text": [
      "\n"
     ]
    },
    {
     "name": "stdout",
     "output_type": "stream",
     "text": [
      "\twriting 124 unmatched peptides\n",
      "\tfiles no_match_6ft , no_match_6ft_2 created\n",
      "Directory already exists at D:\\Period_6\\out\\1148_E\n",
      "Creating excel file with results\n",
      "search and classification done, file saved at  D:/Period_6/out/1148_E/1148_E_immuno_search_out.xlsx\n"
     ]
    }
   ],
   "source": [
    "input_file_path = \"1148_MHCI/1148_E/1148_E.xlsx\"\n",
    "MHC_class = 'E'\n",
    "gibbs_cluster = [0,1]\n",
    "file_name = '1148_E'\n",
    "output_file_path = \"D:/Period_6/out/\" + file_name  + \"/\"    # full file path, has to have \"/\" at the end\n",
    "\n",
    "\n",
    "immuno_search(input_file_path, MHC_class, gibbs_cluster, output_file_path, file_name)"
   ]
  },
  {
   "cell_type": "code",
   "execution_count": 25,
   "metadata": {},
   "outputs": [
    {
     "name": "stdout",
     "output_type": "stream",
     "text": [
      "filtering peptides found by DB search\n",
      "Selected gibbs clusters based on input\n",
      "selecting peptides with length between 8 and 11 AA\n",
      "generating lists and files for further analysis\n",
      "\tfiles peptides , peptides_2 created\n",
      "412 peptides being searched for known HLAs\n",
      "\treading output\n",
      "\tall is gud for HLA_blast_out\n",
      "\tgenerating lists and files for further analysis\n",
      "\tknown HLA found\n",
      "\tfiles to_blastp , to_blastp_2 created\n",
      "394 peptides being searched for human canonical proteins\n",
      "\treading output\n",
      "\tall is gud for blastp_out_human_canonical\n",
      "\tfiles to_6ft , to_6ft_2 created\n",
      "\tgenerating lists and files for further analysis\n",
      "\tfiles SAAV , SAAV_2 created\n",
      "27 peptides being searched for Single Amino Acid Variants\n",
      "\treading output\n",
      "\tall is gud for blast_out_SAAV\n",
      "26 peptides being searched in the six frame translated human genome\n"
     ]
    },
    {
     "name": "stderr",
     "output_type": "stream",
     "text": [
      "[INFO]\u001b[0m 366 patterns loaded from file"
     ]
    },
    {
     "name": "stdout",
     "output_type": "stream",
     "text": [
      "\twriting 6FT results to dictionary\n",
      "\tnumber of matches from 6FT: 342\n"
     ]
    },
    {
     "name": "stderr",
     "output_type": "stream",
     "text": [
      "\n"
     ]
    },
    {
     "name": "stdout",
     "output_type": "stream",
     "text": [
      "\tmatching peptides to 6FT\n",
      "\twriting 32 peptide matches to 6FT\n",
      "\twriting 334 unmatched peptides\n",
      "\tfiles no_match_6ft , no_match_6ft_2 created\n",
      "Search directory created at D:\\Period_6\\out\\1148_MHCI\n",
      "Creating excel file with results\n",
      "search and classification done, file saved at  D:/Period_6/out/1148_MHCI/1148_MHCI_immuno_search_out.xlsx\n"
     ]
    }
   ],
   "source": [
    "input_file_path = \"1148_MHCI/1148_MHCI/1148_MHCI.xlsx\"\n",
    "MHC_class = '1'\n",
    "gibbs_cluster = [0,1,2,3,4]\n",
    "file_name = '1148_MHCI'\n",
    "output_file_path = \"D:/Period_6/out/\" + file_name  + \"/\"    # full file path, has to have \"/\" at the end\n",
    "\n",
    "\n",
    "immuno_search(input_file_path, MHC_class, gibbs_cluster, output_file_path, file_name)"
   ]
  },
  {
   "cell_type": "code",
   "execution_count": 27,
   "metadata": {},
   "outputs": [
    {
     "name": "stdout",
     "output_type": "stream",
     "text": [
      "filtering peptides found by DB search\n",
      "Selected gibbs clusters based on input\n",
      "selecting peptides with length between 12 and 17 AA\n",
      "generating lists and files for further analysis\n",
      "\tfiles peptides , peptides_2 created\n",
      "116 peptides being searched for known HLAs\n",
      "\treading output\n",
      "\tall is gud for HLA_blast_out\n",
      "\tgenerating lists and files for further analysis\n",
      "\tknown HLA found\n",
      "\tfiles to_blastp , to_blastp_2 created\n",
      "108 peptides being searched for human canonical proteins\n",
      "\treading output\n",
      "\tall is gud for blastp_out_human_canonical\n",
      "\tfiles to_6ft , to_6ft_2 created\n",
      "\tgenerating lists and files for further analysis\n",
      "\tfiles SAAV , SAAV_2 created\n",
      "11 peptides being searched for Single Amino Acid Variants\n",
      "\treading output\n",
      "\tall is gud for blast_out_SAAV\n",
      "97 peptides being searched in the six frame translated human genome\n"
     ]
    },
    {
     "name": "stderr",
     "output_type": "stream",
     "text": [
      "[INFO]\u001b[0m 97 patterns loaded from file"
     ]
    },
    {
     "name": "stdout",
     "output_type": "stream",
     "text": [
      "\twriting 6FT results to dictionary\n",
      "\tnumber of matches from 6FT: 0\n",
      "\tmatching peptides to 6FT\n",
      "\tno peptides matched to 6ft\n"
     ]
    },
    {
     "name": "stderr",
     "output_type": "stream",
     "text": [
      "\n"
     ]
    },
    {
     "name": "stdout",
     "output_type": "stream",
     "text": [
      "\twriting 97 unmatched peptides\n",
      "\tfiles no_match_6ft , no_match_6ft_2 created\n",
      "Search directory created at D:\\Period_6\\out\\1148_MHCII\n",
      "Creating excel file with results\n",
      "search and classification done, file saved at  D:/Period_6/out/1148_MHCII/1148_MHCII_immuno_search_out.xlsx\n"
     ]
    }
   ],
   "source": [
    "input_file_path = \"1148_MHCI/1148_MHCII/1148_MHCII.xlsx\"\n",
    "MHC_class = '2'\n",
    "gibbs_cluster = [1]\n",
    "file_name = '1148_MHCII'\n",
    "output_file_path = \"D:/Period_6/out/\" + file_name  + \"/\"    # full file path, has to have \"/\" at the end\n",
    "\n",
    "\n",
    "immuno_search(input_file_path, MHC_class, gibbs_cluster, output_file_path, file_name)"
   ]
  },
  {
   "cell_type": "code",
   "execution_count": 5,
   "metadata": {},
   "outputs": [
    {
     "name": "stdout",
     "output_type": "stream",
     "text": [
      "filtering peptides found by DB search\n",
      "Selected gibbs clusters based on input\n",
      "selecting peptides with length between 8 and 15 AA\n",
      "generating lists and files for further analysis\n",
      "\tfiles peptides , peptides_2 created\n",
      "165 peptides being searched for known HLAs\n",
      "\treading output\n",
      "\tall is gud for HLA_blast_out\n",
      "\tgenerating lists and files for further analysis\n",
      "\tknown HLA found\n",
      "\tfiles to_blastp , to_blastp_2 created\n",
      "155 peptides being searched for human canonical proteins\n",
      "\treading output\n",
      "\tall is gud for blastp_out_human_canonical\n",
      "\tfiles to_6ft , to_6ft_2 created\n",
      "\tgenerating lists and files for further analysis\n",
      "\tfiles SAAV , SAAV_2 created\n",
      "6 peptides being searched for Single Amino Acid Variants\n",
      "\treading output\n",
      "\tall is gud for blast_out_SAAV\n",
      "149 peptides being searched in the six frame translated human genome\n"
     ]
    },
    {
     "name": "stderr",
     "output_type": "stream",
     "text": [
      "[INFO]\u001b[0m 149 patterns loaded from file"
     ]
    },
    {
     "name": "stdout",
     "output_type": "stream",
     "text": [
      "\twriting 6FT results to dictionary\n"
     ]
    },
    {
     "name": "stderr",
     "output_type": "stream",
     "text": [
      "\n"
     ]
    },
    {
     "name": "stdout",
     "output_type": "stream",
     "text": [
      "\tnumber of matches from 6FT: 42\n",
      "\tmatching peptides to 6FT\n",
      "\twriting 7 peptide matches to 6FT\n",
      "\twriting 142 unmatched peptides\n",
      "\tfiles no_match_6ft , no_match_6ft_2 created\n",
      "Directory already exists at D:\\Period_6\\out\\1150_E\n",
      "Creating excel file with results\n",
      "search and classification done, file saved at  D:/Period_6/out/1150_E/1150_E_immuno_search_out.xlsx\n"
     ]
    }
   ],
   "source": [
    "input_file_path = \"1148_MHCI/1150_E/1150_E.xlsx\"\n",
    "MHC_class = 'E'\n",
    "gibbs_cluster = [0,1]\n",
    "file_name = '1150_E'\n",
    "output_file_path = \"D:/Period_6/out/\" + file_name  + \"/\"    # full file path, has to have \"/\" at the end\n",
    "\n",
    "\n",
    "immuno_search(input_file_path, MHC_class, gibbs_cluster, output_file_path, file_name)"
   ]
  },
  {
   "cell_type": "code",
   "execution_count": 29,
   "metadata": {},
   "outputs": [
    {
     "name": "stdout",
     "output_type": "stream",
     "text": [
      "filtering peptides found by DB search\n",
      "Selecting all gibbs clusters\n",
      "selecting peptides with length between 8 and 11 AA\n",
      "generating lists and files for further analysis\n",
      "\tfiles peptides , peptides_2 created\n",
      "338 peptides being searched for known HLAs\n",
      "\treading output\n",
      "\tall is gud for HLA_blast_out\n",
      "\tgenerating lists and files for further analysis\n",
      "\tknown HLA found\n",
      "\tfiles to_blastp , to_blastp_2 created\n",
      "330 peptides being searched for human canonical proteins\n",
      "\treading output\n",
      "\tall is gud for blastp_out_human_canonical\n",
      "\tfiles to_6ft , to_6ft_2 created\n",
      "\tgenerating lists and files for further analysis\n",
      "\tfiles SAAV , SAAV_2 created\n",
      "28 peptides being searched for Single Amino Acid Variants\n",
      "\treading output\n",
      "\tall is gud for blast_out_SAAV\n",
      "302 peptides being searched in the six frame translated human genome\n"
     ]
    },
    {
     "name": "stderr",
     "output_type": "stream",
     "text": [
      "[INFO]\u001b[0m 302 patterns loaded from file"
     ]
    },
    {
     "name": "stdout",
     "output_type": "stream",
     "text": [
      "\twriting 6FT results to dictionary\n"
     ]
    },
    {
     "name": "stderr",
     "output_type": "stream",
     "text": [
      "\n"
     ]
    },
    {
     "name": "stdout",
     "output_type": "stream",
     "text": [
      "\tnumber of matches from 6FT: 707\n",
      "\tmatching peptides to 6FT\n",
      "\twriting 42 peptide matches to 6FT\n",
      "\twriting 260 unmatched peptides\n",
      "\tfiles no_match_6ft , no_match_6ft_2 created\n",
      "Search directory created at D:\\Period_6\\out\\1150_MHCI\n",
      "Creating excel file with results\n",
      "search and classification done, file saved at  D:/Period_6/out/1150_MHCI/1150_MHCI_immuno_search_out.xlsx\n"
     ]
    }
   ],
   "source": [
    "input_file_path = \"1148_MHCI/1150_MHCI/1150_MHCI.xlsx\"\n",
    "MHC_class = '1'\n",
    "gibbs_cluster = []\n",
    "file_name = '1150_MHCI'\n",
    "output_file_path = \"D:/Period_6/out/\" + file_name  + \"/\"    # full file path, has to have \"/\" at the end\n",
    "\n",
    "\n",
    "immuno_search(input_file_path, MHC_class, gibbs_cluster, output_file_path, file_name)"
   ]
  },
  {
   "cell_type": "code",
   "execution_count": 30,
   "metadata": {},
   "outputs": [
    {
     "name": "stdout",
     "output_type": "stream",
     "text": [
      "filtering peptides found by DB search\n",
      "Selected gibbs clusters based on input\n",
      "selecting peptides with length between 12 and 17 AA\n",
      "generating lists and files for further analysis\n",
      "\tfiles peptides , peptides_2 created\n",
      "88 peptides being searched for known HLAs\n",
      "\treading output\n",
      "\tall is gud for HLA_blast_out\n",
      "\tgenerating lists and files for further analysis\n",
      "\tknown HLA found\n",
      "\tfiles to_blastp , to_blastp_2 created\n",
      "81 peptides being searched for human canonical proteins\n",
      "\treading output\n",
      "\tall is gud for blastp_out_human_canonical\n",
      "\tfiles to_6ft , to_6ft_2 created\n",
      "\tgenerating lists and files for further analysis\n",
      "\tfiles SAAV , SAAV_2 created\n",
      "9 peptides being searched for Single Amino Acid Variants\n",
      "\treading output\n",
      "\tall is gud for blast_out_SAAV\n",
      "72 peptides being searched in the six frame translated human genome\n"
     ]
    },
    {
     "name": "stderr",
     "output_type": "stream",
     "text": [
      "[INFO]\u001b[0m 72 patterns loaded from file\n"
     ]
    },
    {
     "name": "stdout",
     "output_type": "stream",
     "text": [
      "\twriting 6FT results to dictionary\n",
      "\tnumber of matches from 6FT: 0\n",
      "\tmatching peptides to 6FT\n",
      "\tno peptides matched to 6ft\n",
      "\twriting 72 unmatched peptides\n",
      "\tfiles no_match_6ft , no_match_6ft_2 created\n",
      "Search directory created at D:\\Period_6\\out\\1150_MHCII\n",
      "Creating excel file with results\n",
      "search and classification done, file saved at  D:/Period_6/out/1150_MHCII/1150_MHCII_immuno_search_out.xlsx\n"
     ]
    }
   ],
   "source": [
    "input_file_path = \"1148_MHCI/1150_MHCII/1150_MHCII.xlsx\"\n",
    "MHC_class = '2'\n",
    "gibbs_cluster = [0]\n",
    "file_name = '1150_MHCII'\n",
    "output_file_path = \"D:/Period_6/out/\" + file_name  + \"/\"    # full file path, has to have \"/\" at the end\n",
    "\n",
    "\n",
    "immuno_search(input_file_path, MHC_class, gibbs_cluster, output_file_path, file_name)"
   ]
  },
  {
   "cell_type": "code",
   "execution_count": 6,
   "metadata": {},
   "outputs": [
    {
     "name": "stdout",
     "output_type": "stream",
     "text": [
      "filtering peptides found by DB search\n",
      "Selected gibbs clusters based on input\n",
      "selecting peptides with length between 8 and 15 AA\n",
      "generating lists and files for further analysis\n",
      "\tfiles peptides , peptides_2 created\n",
      "196 peptides being searched for known HLAs\n",
      "\treading output\n",
      "\tall is gud for HLA_blast_out\n",
      "\tgenerating lists and files for further analysis\n",
      "\tknown HLA found\n",
      "\tfiles to_blastp , to_blastp_2 created\n",
      "191 peptides being searched for human canonical proteins\n",
      "\treading output\n",
      "\tall is gud for blastp_out_human_canonical\n",
      "\tfiles to_6ft , to_6ft_2 created\n",
      "\tgenerating lists and files for further analysis\n",
      "\tfiles SAAV , SAAV_2 created\n",
      "11 peptides being searched for Single Amino Acid Variants\n",
      "\treading output\n",
      "\tall is gud for blast_out_SAAV\n",
      "180 peptides being searched in the six frame translated human genome\n"
     ]
    },
    {
     "name": "stderr",
     "output_type": "stream",
     "text": [
      "[INFO]\u001b[0m 180 patterns loaded from file"
     ]
    },
    {
     "name": "stdout",
     "output_type": "stream",
     "text": [
      "\twriting 6FT results to dictionary\n",
      "\tnumber of matches from 6FT: 390\n",
      "\tmatching peptides to 6FT\n",
      "\twriting 10 peptide matches to 6FT\n",
      "\twriting 170 unmatched peptides\n"
     ]
    },
    {
     "name": "stderr",
     "output_type": "stream",
     "text": [
      "\n"
     ]
    },
    {
     "name": "stdout",
     "output_type": "stream",
     "text": [
      "\tfiles no_match_6ft , no_match_6ft_2 created\n",
      "Directory already exists at D:\\Period_6\\out\\1153_E\n",
      "Creating excel file with results\n",
      "search and classification done, file saved at  D:/Period_6/out/1153_E/1153_E_immuno_search_out.xlsx\n"
     ]
    }
   ],
   "source": [
    "input_file_path = \"1148_MHCI/1153_E/1153_E.xlsx\"\n",
    "MHC_class = 'E'\n",
    "gibbs_cluster = [1,2,3,4]\n",
    "file_name = '1153_E'\n",
    "output_file_path = \"D:/Period_6/out/\" + file_name  + \"/\"    # full file path, has to have \"/\" at the end\n",
    "\n",
    "\n",
    "immuno_search(input_file_path, MHC_class, gibbs_cluster, output_file_path, file_name)"
   ]
  },
  {
   "cell_type": "code",
   "execution_count": 33,
   "metadata": {},
   "outputs": [
    {
     "name": "stdout",
     "output_type": "stream",
     "text": [
      "filtering peptides found by DB search\n",
      "Selected gibbs clusters based on input\n",
      "selecting peptides with length between 12 and 17 AA\n",
      "generating lists and files for further analysis\n",
      "\tfiles peptides , peptides_2 created\n",
      "59 peptides being searched for known HLAs\n",
      "\treading output\n",
      "\tall is gud for HLA_blast_out\n",
      "\tgenerating lists and files for further analysis\n",
      "\tknown HLA found\n",
      "\tfiles to_blastp , to_blastp_2 created\n",
      "55 peptides being searched for human canonical proteins\n",
      "\treading output\n",
      "\tall is gud for blastp_out_human_canonical\n",
      "\tfiles to_6ft , to_6ft_2 created\n",
      "\tgenerating lists and files for further analysis\n",
      "\tfiles SAAV , SAAV_2 created\n",
      "6 peptides being searched for Single Amino Acid Variants\n",
      "\treading output\n",
      "\tall is gud for blast_out_SAAV\n",
      "49 peptides being searched in the six frame translated human genome\n"
     ]
    },
    {
     "name": "stderr",
     "output_type": "stream",
     "text": [
      "[INFO]\u001b[0m 49 patterns loaded from file\n"
     ]
    },
    {
     "name": "stdout",
     "output_type": "stream",
     "text": [
      "\twriting 6FT results to dictionary\n",
      "\tnumber of matches from 6FT: 0\n",
      "\tmatching peptides to 6FT\n",
      "\tno peptides matched to 6ft\n",
      "\twriting 49 unmatched peptides\n",
      "\tfiles no_match_6ft , no_match_6ft_2 created\n",
      "Search directory created at D:\\Period_6\\out\\1153_MHCII\n",
      "Creating excel file with results\n",
      "search and classification done, file saved at  D:/Period_6/out/1153_MHCII/1153_MHCII_immuno_search_out.xlsx\n"
     ]
    }
   ],
   "source": [
    "input_file_path = \"1148_MHCI/1153_MHCII/1153_MHCII.xlsx\"\n",
    "MHC_class = '2'\n",
    "gibbs_cluster = [1]\n",
    "file_name = '1153_MHCII'\n",
    "output_file_path = \"D:/Period_6/out/\" + file_name  + \"/\"    # full file path, has to have \"/\" at the end\n",
    "\n",
    "\n",
    "immuno_search(input_file_path, MHC_class, gibbs_cluster, output_file_path, file_name)"
   ]
  },
  {
   "cell_type": "code",
   "execution_count": 7,
   "metadata": {},
   "outputs": [
    {
     "name": "stdout",
     "output_type": "stream",
     "text": [
      "filtering peptides found by DB search\n",
      "Selected gibbs clusters based on input\n",
      "selecting peptides with length between 8 and 15 AA\n",
      "generating lists and files for further analysis\n",
      "\tfiles peptides , peptides_2 created\n",
      "21 peptides being searched for known HLAs\n",
      "\treading output\n",
      "\tall is gud for HLA_blast_out\n",
      "\tgenerating lists and files for further analysis\n",
      "\tno known HLA found\n",
      "\tfiles to_blastp , to_blastp_2 created\n",
      "21 peptides being searched for human canonical proteins\n",
      "\treading output\n",
      "\tall is gud for blastp_out_human_canonical\n",
      "\tfiles to_6ft , to_6ft_2 created\n",
      "\tgenerating lists and files for further analysis\n",
      "\tfiles SAAV , SAAV_2 created\n",
      "1 peptide being searched for Single Amino Acid Variants\n",
      "\treading output\n",
      "\tall is gud for blast_out_SAAV\n",
      "20 peptides being searched in the six frame translated human genome\n"
     ]
    },
    {
     "name": "stderr",
     "output_type": "stream",
     "text": [
      "[INFO]\u001b[0m 20 patterns loaded from file"
     ]
    },
    {
     "name": "stdout",
     "output_type": "stream",
     "text": [
      "\twriting 6FT results to dictionary\n",
      "\tnumber of matches from 6FT: 10\n"
     ]
    },
    {
     "name": "stderr",
     "output_type": "stream",
     "text": [
      "\n"
     ]
    },
    {
     "name": "stdout",
     "output_type": "stream",
     "text": [
      "\tmatching peptides to 6FT\n",
      "\twriting 1 peptide matches to 6FT\n",
      "\twriting 19 unmatched peptides\n",
      "\tfiles no_match_6ft , no_match_6ft_2 created\n",
      "Directory already exists at D:\\Period_6\\out\\1130_E1\n",
      "Creating excel file with results\n",
      "search and classification done, file saved at  D:/Period_6/out/1130_E1/1130_E1_immuno_search_out.xlsx\n"
     ]
    }
   ],
   "source": [
    "file_name = '1130_E1'\n",
    "input_file_path = \"im folder/1130_E1/\" + file_name + \".xlsx\"\n",
    "MHC_class = 'E'\n",
    "gibbs_cluster = [0,2,3]\n",
    "output_file_path = \"D:/Period_6/out/\" + file_name  + \"/\"    # full file path, has to have \"/\" at the end\n",
    "\n",
    "\n",
    "immuno_search(input_file_path, MHC_class, gibbs_cluster, output_file_path, file_name)"
   ]
  },
  {
   "cell_type": "code",
   "execution_count": 8,
   "metadata": {},
   "outputs": [
    {
     "name": "stdout",
     "output_type": "stream",
     "text": [
      "filtering peptides found by DB search\n",
      "Selected gibbs clusters based on input\n",
      "selecting peptides with length between 8 and 15 AA\n",
      "generating lists and files for further analysis\n",
      "\tfiles peptides , peptides_2 created\n",
      "13 peptides being searched for known HLAs\n",
      "\treading output\n",
      "\tall is gud for HLA_blast_out\n",
      "\tgenerating lists and files for further analysis\n",
      "\tno known HLA found\n",
      "\tfiles to_blastp , to_blastp_2 created\n",
      "13 peptides being searched for human canonical proteins\n",
      "\treading output\n",
      "\tall is gud for blastp_out_human_canonical\n",
      "\tfiles to_6ft , to_6ft_2 created\n",
      "\tgenerating lists and files for further analysis\n",
      "\tfiles SAAV , SAAV_2 created\n",
      "1 peptide being searched for Single Amino Acid Variants\n",
      "\treading output\n",
      "\tall is gud for blast_out_SAAV\n",
      "12 peptides being searched in the six frame translated human genome\n"
     ]
    },
    {
     "name": "stderr",
     "output_type": "stream",
     "text": [
      "[INFO]\u001b[0m 12 patterns loaded from file\n"
     ]
    },
    {
     "name": "stdout",
     "output_type": "stream",
     "text": [
      "\twriting 6FT results to dictionary\n",
      "\tnumber of matches from 6FT: 25\n",
      "\tmatching peptides to 6FT\n",
      "\twriting 3 peptide matches to 6FT\n",
      "\twriting 9 unmatched peptides\n",
      "\tfiles no_match_6ft , no_match_6ft_2 created\n",
      "Directory already exists at D:\\Period_6\\out\\1130_E2\n",
      "Creating excel file with results\n",
      "search and classification done, file saved at  D:/Period_6/out/1130_E2/1130_E2_immuno_search_out.xlsx\n"
     ]
    }
   ],
   "source": [
    "file_name = '1130_E2'\n",
    "input_file_path = \"im folder/1130_E2/\" + file_name + \".xlsx\"\n",
    "MHC_class = 'E'\n",
    "gibbs_cluster = [0,1,3]\n",
    "output_file_path = \"D:/Period_6/out/\" + file_name  + \"/\"    # full file path, has to have \"/\" at the end\n",
    "\n",
    "\n",
    "immuno_search(input_file_path, MHC_class, gibbs_cluster, output_file_path, file_name)"
   ]
  },
  {
   "cell_type": "code",
   "execution_count": 6,
   "metadata": {},
   "outputs": [
    {
     "name": "stdout",
     "output_type": "stream",
     "text": [
      "filtering peptides found by DB search\n",
      "Selecting all gibbs clusters\n",
      "selecting peptides with length between 8 and 11 AA\n",
      "generating lists and files for further analysis\n",
      "\tfiles peptides , peptides_2 created\n",
      "734 peptides being searched for known HLAs\n",
      "\treading output\n",
      "\tall is gud for HLA_blast_out\n",
      "\tgenerating lists and files for further analysis\n",
      "\tknown HLA found\n",
      "\tfiles to_blastp , to_blastp_2 created\n",
      "733 peptides being searched for human canonical proteins\n",
      "\treading output\n",
      "\tall is gud for blastp_out_human_canonical\n",
      "\tfiles to_6ft , to_6ft_2 created\n",
      "\tgenerating lists and files for further analysis\n",
      "\tfiles SAAV , SAAV_2 created\n",
      "50 peptides being searched for Single Amino Acid Variants\n",
      "\treading output\n",
      "\tall is gud for blast_out_SAAV\n",
      "678 peptides being searched in the six frame translated human genome\n"
     ]
    },
    {
     "name": "stderr",
     "output_type": "stream",
     "text": [
      "[INFO]\u001b[0m 678 patterns loaded from file\n"
     ]
    },
    {
     "name": "stdout",
     "output_type": "stream",
     "text": [
      "\twriting 6FT results to dictionary\n",
      "\tnumber of matches from 6FT: 676\n",
      "\tmatching peptides to 6FT\n",
      "\twriting 49 peptide matches to 6FT\n",
      "\twriting 629 unmatched peptides\n",
      "\tfiles no_match_6ft , no_match_6ft_2 created\n",
      "Search directory created at D:\\Period_6\\out\\1130_MHCI_1\n",
      "Creating excel file with results\n",
      "search and classification done, file saved at  D:/Period_6/out/1130_MHCI_1/1130_MHCI_1_immuno_search_out.xlsx\n"
     ]
    }
   ],
   "source": [
    "file_name = '1130_MHCI_1'\n",
    "input_file_path = \"im folder/1130_MHCI_1/\" + file_name + \".xlsx\"\n",
    "MHC_class = '1'\n",
    "gibbs_cluster = []\n",
    "output_file_path = \"D:/Period_6/out/\" + file_name  + \"/\"    # full file path, has to have \"/\" at the end\n",
    "\n",
    "\n",
    "immuno_search(input_file_path, MHC_class, gibbs_cluster, output_file_path, file_name)"
   ]
  },
  {
   "cell_type": "code",
   "execution_count": 7,
   "metadata": {},
   "outputs": [
    {
     "name": "stdout",
     "output_type": "stream",
     "text": [
      "filtering peptides found by DB search\n",
      "Selecting all gibbs clusters\n",
      "selecting peptides with length between 8 and 11 AA\n",
      "generating lists and files for further analysis\n",
      "\tfiles peptides , peptides_2 created\n",
      "746 peptides being searched for known HLAs\n",
      "\treading output\n",
      "\tall is gud for HLA_blast_out\n",
      "\tgenerating lists and files for further analysis\n",
      "\tknown HLA found\n",
      "\tfiles to_blastp , to_blastp_2 created\n",
      "742 peptides being searched for human canonical proteins\n",
      "\treading output\n",
      "\tall is gud for blastp_out_human_canonical\n",
      "\tfiles to_6ft , to_6ft_2 created\n",
      "\tgenerating lists and files for further analysis\n",
      "\tfiles SAAV , SAAV_2 created\n",
      "54 peptides being searched for Single Amino Acid Variants\n",
      "\treading output\n",
      "\tall is gud for blast_out_SAAV\n",
      "684 peptides being searched in the six frame translated human genome\n",
      "\twriting 6FT results to dictionary\n"
     ]
    },
    {
     "name": "stderr",
     "output_type": "stream",
     "text": [
      "[INFO]\u001b[0m 684 patterns loaded from file\n"
     ]
    },
    {
     "name": "stdout",
     "output_type": "stream",
     "text": [
      "\tnumber of matches from 6FT: 791\n",
      "\tmatching peptides to 6FT\n",
      "\twriting 44 peptide matches to 6FT\n",
      "\twriting 640 unmatched peptides\n",
      "\tfiles no_match_6ft , no_match_6ft_2 created\n",
      "Search directory created at D:\\Period_6\\out\\1130_MHCI_2\n",
      "Creating excel file with results\n",
      "search and classification done, file saved at  D:/Period_6/out/1130_MHCI_2/1130_MHCI_2_immuno_search_out.xlsx\n"
     ]
    }
   ],
   "source": [
    "file_name = '1130_MHCI_2'\n",
    "input_file_path = \"im folder/1130_MHCI_2/\" + file_name + \".xlsx\"\n",
    "MHC_class = '1'\n",
    "gibbs_cluster = []\n",
    "output_file_path = \"D:/Period_6/out/\" + file_name  + \"/\"    # full file path, has to have \"/\" at the end\n",
    "\n",
    "\n",
    "immuno_search(input_file_path, MHC_class, gibbs_cluster, output_file_path, file_name)"
   ]
  },
  {
   "cell_type": "code",
   "execution_count": 8,
   "metadata": {},
   "outputs": [
    {
     "name": "stdout",
     "output_type": "stream",
     "text": [
      "filtering peptides found by DB search\n",
      "Selected gibbs clusters based on input\n",
      "selecting peptides with length between 12 and 17 AA\n",
      "generating lists and files for further analysis\n",
      "\tfiles peptides , peptides_2 created\n",
      "9 peptides being searched for known HLAs\n",
      "\treading output\n",
      "\tall is gud for HLA_blast_out\n",
      "\tgenerating lists and files for further analysis\n",
      "\tno known HLA found\n",
      "\tfiles to_blastp , to_blastp_2 created\n",
      "9 peptides being searched for human canonical proteins\n",
      "\treading output\n",
      "\tall is gud for blastp_out_human_canonical\n",
      "\tfiles to_6ft , to_6ft_2 created\n",
      "\tgenerating lists and files for further analysis\n",
      "\tfiles SAAV , SAAV_2 created\n",
      "1 peptide being searched for Single Amino Acid Variants\n",
      "\treading output\n",
      "\tall is gud for blast_out_SAAV\n",
      "8 peptides being searched in the six frame translated human genome\n"
     ]
    },
    {
     "name": "stderr",
     "output_type": "stream",
     "text": [
      "[INFO]\u001b[0m 8 patterns loaded from file\n"
     ]
    },
    {
     "name": "stdout",
     "output_type": "stream",
     "text": [
      "\twriting 6FT results to dictionary\n",
      "\tnumber of matches from 6FT: 0\n",
      "\tmatching peptides to 6FT\n",
      "\tno peptides matched to 6ft\n",
      "\twriting 8 unmatched peptides\n",
      "\tfiles no_match_6ft , no_match_6ft_2 created\n",
      "Search directory created at D:\\Period_6\\out\\1130_MHCII_1\n",
      "Creating excel file with results\n",
      "search and classification done, file saved at  D:/Period_6/out/1130_MHCII_1/1130_MHCII_1_immuno_search_out.xlsx\n"
     ]
    }
   ],
   "source": [
    "file_name = '1130_MHCII_1'\n",
    "input_file_path = \"im folder/1130_MHCII_A2/\" + file_name + \".xlsx\"\n",
    "MHC_class = '2'\n",
    "gibbs_cluster = [0,1]\n",
    "output_file_path = \"D:/Period_6/out/\" + file_name  + \"/\"    # full file path, has to have \"/\" at the end\n",
    "\n",
    "\n",
    "immuno_search(input_file_path, MHC_class, gibbs_cluster, output_file_path, file_name)"
   ]
  },
  {
   "cell_type": "code",
   "execution_count": 9,
   "metadata": {},
   "outputs": [
    {
     "name": "stdout",
     "output_type": "stream",
     "text": [
      "filtering peptides found by DB search\n",
      "Selected gibbs clusters based on input\n",
      "selecting peptides with length between 12 and 17 AA\n",
      "generating lists and files for further analysis\n",
      "\tfiles peptides , peptides_2 created\n",
      "14 peptides being searched for known HLAs\n",
      "\treading output\n",
      "\tall is gud for HLA_blast_out\n",
      "\tgenerating lists and files for further analysis\n",
      "\tno known HLA found\n",
      "\tfiles to_blastp , to_blastp_2 created\n",
      "14 peptides being searched for human canonical proteins\n",
      "\treading output\n",
      "\tall is gud for blastp_out_human_canonical\n",
      "\tfiles to_6ft , to_6ft_2 created\n",
      "\tgenerating lists and files for further analysis\n",
      "\tfiles SAAV , SAAV_2 created\n",
      "3 peptides being searched for Single Amino Acid Variants\n",
      "\treading output\n",
      "\tall is gud for blast_out_SAAV\n",
      "11 peptides being searched in the six frame translated human genome\n"
     ]
    },
    {
     "name": "stderr",
     "output_type": "stream",
     "text": [
      "[INFO]\u001b[0m 11 patterns loaded from file"
     ]
    },
    {
     "name": "stdout",
     "output_type": "stream",
     "text": [
      "\twriting 6FT results to dictionary\n"
     ]
    },
    {
     "name": "stderr",
     "output_type": "stream",
     "text": [
      "\n"
     ]
    },
    {
     "name": "stdout",
     "output_type": "stream",
     "text": [
      "\tnumber of matches from 6FT: 0\n",
      "\tmatching peptides to 6FT\n",
      "\tno peptides matched to 6ft\n",
      "\twriting 11 unmatched peptides\n",
      "\tfiles no_match_6ft , no_match_6ft_2 created\n",
      "Search directory created at D:\\Period_6\\out\\1130_MHCII_2\n",
      "Creating excel file with results\n",
      "search and classification done, file saved at  D:/Period_6/out/1130_MHCII_2/1130_MHCII_2_immuno_search_out.xlsx\n"
     ]
    }
   ],
   "source": [
    "file_name = '1130_MHCII_2'\n",
    "input_file_path = \"im folder/1130_MHCII_B2/\" + file_name + \".xlsx\"\n",
    "MHC_class = '2'\n",
    "gibbs_cluster = [1,2]\n",
    "output_file_path = \"D:/Period_6/out/\" + file_name  + \"/\"    # full file path, has to have \"/\" at the end\n",
    "\n",
    "\n",
    "immuno_search(input_file_path, MHC_class, gibbs_cluster, output_file_path, file_name)"
   ]
  },
  {
   "cell_type": "code",
   "execution_count": 4,
   "metadata": {},
   "outputs": [
    {
     "name": "stdout",
     "output_type": "stream",
     "text": [
      "filtering peptides found by DB search\n",
      "Selected gibbs clusters based on input\n",
      "selecting peptides with length between 8 and 15 AA\n",
      "generating lists and files for further analysis\n",
      "\tfiles peptides , peptides_2 created\n",
      "267 peptides being searched for known HLAs\n",
      "\treading output\n",
      "\tall is gud for HLA_blast_out\n",
      "\tgenerating lists and files for further analysis\n",
      "\tknown HLA found\n",
      "\tfiles to_blastp , to_blastp_2 created\n",
      "256 peptides being searched for human canonical proteins\n",
      "\treading output\n",
      "\tall is gud for blastp_out_human_canonical\n",
      "\tfiles to_6ft , to_6ft_2 created\n",
      "\tgenerating lists and files for further analysis\n",
      "\tfiles SAAV , SAAV_2 created\n",
      "15 peptides being searched for Single Amino Acid Variants\n",
      "\treading output\n",
      "\tall is gud for blast_out_SAAV\n",
      "241 peptides being searched in the six frame translated human genome\n"
     ]
    },
    {
     "name": "stderr",
     "output_type": "stream",
     "text": [
      "[INFO]\u001b[0m 241 patterns loaded from file"
     ]
    },
    {
     "name": "stdout",
     "output_type": "stream",
     "text": [
      "\twriting 6FT results to dictionary\n",
      "\tnumber of matches from 6FT: 24\n",
      "\tmatching peptides to 6FT\n",
      "\twriting 5 peptide matches to 6FT\n"
     ]
    },
    {
     "name": "stderr",
     "output_type": "stream",
     "text": [
      "\n"
     ]
    },
    {
     "name": "stdout",
     "output_type": "stream",
     "text": [
      "\twriting 236 unmatched peptides\n",
      "\tfiles no_match_6ft , no_match_6ft_2 created\n",
      "Directory already exists at D:\\Period_6\\out\\1134_E\n",
      "Creating excel file with results\n",
      "search and classification done, file saved at  D:/Period_6/out/1134_E/1134_E_immuno_search_out.xlsx\n"
     ]
    }
   ],
   "source": [
    "file_name = '1134_E'\n",
    "input_file_path = \"im folder/1134_E/\" + file_name + \".xlsx\"\n",
    "MHC_class = 'E'\n",
    "gibbs_cluster = [0,1,2,3]\n",
    "output_file_path = \"D:/Period_6/out/\" + file_name  + \"/\"    # full file path, has to have \"/\" at the end\n",
    "\n",
    "\n",
    "immuno_search(input_file_path, MHC_class, gibbs_cluster, output_file_path, file_name)"
   ]
  },
  {
   "cell_type": "code",
   "execution_count": 11,
   "metadata": {},
   "outputs": [
    {
     "name": "stdout",
     "output_type": "stream",
     "text": [
      "filtering peptides found by DB search\n",
      "Selecting all gibbs clusters\n",
      "selecting peptides with length between 8 and 11 AA\n",
      "generating lists and files for further analysis\n",
      "\tfiles peptides , peptides_2 created\n",
      "366 peptides being searched for known HLAs\n",
      "\treading output\n",
      "\tall is gud for HLA_blast_out\n",
      "\tgenerating lists and files for further analysis\n",
      "\tknown HLA found\n",
      "\tfiles to_blastp , to_blastp_2 created\n",
      "357 peptides being searched for human canonical proteins\n",
      "\treading output\n",
      "\tall is gud for blastp_out_human_canonical\n",
      "\tfiles to_6ft , to_6ft_2 created\n",
      "\tgenerating lists and files for further analysis\n",
      "\tfiles SAAV , SAAV_2 created\n",
      "25 peptides being searched for Single Amino Acid Variants\n",
      "\treading output\n",
      "\tall is gud for blast_out_SAAV\n",
      "332 peptides being searched in the six frame translated human genome\n"
     ]
    },
    {
     "name": "stderr",
     "output_type": "stream",
     "text": [
      "[INFO]\u001b[0m 332 patterns loaded from file"
     ]
    },
    {
     "name": "stdout",
     "output_type": "stream",
     "text": [
      "\twriting 6FT results to dictionary\n",
      "\tnumber of matches from 6FT: 771\n",
      "\tmatching peptides to 6FT\n",
      "\twriting 43 peptide matches to 6FT\n"
     ]
    },
    {
     "name": "stderr",
     "output_type": "stream",
     "text": [
      "\n"
     ]
    },
    {
     "name": "stdout",
     "output_type": "stream",
     "text": [
      "\twriting 289 unmatched peptides\n",
      "\tfiles no_match_6ft , no_match_6ft_2 created\n",
      "Search directory created at D:\\Period_6\\out\\1134_MHCI\n",
      "Creating excel file with results\n",
      "search and classification done, file saved at  D:/Period_6/out/1134_MHCI/1134_MHCI_immuno_search_out.xlsx\n"
     ]
    }
   ],
   "source": [
    "file_name = '1134_MHCI'\n",
    "input_file_path = \"im folder/1134_MHCI/\" + file_name + \".xlsx\"\n",
    "MHC_class = '1'\n",
    "gibbs_cluster = []\n",
    "output_file_path = \"D:/Period_6/out/\" + file_name  + \"/\"    # full file path, has to have \"/\" at the end\n",
    "\n",
    "\n",
    "immuno_search(input_file_path, MHC_class, gibbs_cluster, output_file_path, file_name)"
   ]
  },
  {
   "cell_type": "code",
   "execution_count": 12,
   "metadata": {},
   "outputs": [
    {
     "name": "stdout",
     "output_type": "stream",
     "text": [
      "filtering peptides found by DB search\n",
      "Selecting all gibbs clusters\n",
      "selecting peptides with length between 12 and 17 AA\n",
      "generating lists and files for further analysis\n",
      "\tfiles peptides , peptides_2 created\n",
      "145 peptides being searched for known HLAs\n",
      "\treading output\n",
      "\tall is gud for HLA_blast_out\n",
      "\tgenerating lists and files for further analysis\n",
      "\tknown HLA found\n",
      "\tfiles to_blastp , to_blastp_2 created\n",
      "132 peptides being searched for human canonical proteins\n",
      "\treading output\n",
      "\tall is gud for blastp_out_human_canonical\n",
      "\tfiles to_6ft , to_6ft_2 created\n",
      "\tgenerating lists and files for further analysis\n",
      "\tfiles SAAV , SAAV_2 created\n",
      "6 peptides being searched for Single Amino Acid Variants\n",
      "\treading output\n",
      "\tall is gud for blast_out_SAAV\n",
      "126 peptides being searched in the six frame translated human genome\n"
     ]
    },
    {
     "name": "stderr",
     "output_type": "stream",
     "text": [
      "[INFO]\u001b[0m 126 patterns loaded from file"
     ]
    },
    {
     "name": "stdout",
     "output_type": "stream",
     "text": [
      "\twriting 6FT results to dictionary\n",
      "\tnumber of matches from 6FT: 0\n"
     ]
    },
    {
     "name": "stderr",
     "output_type": "stream",
     "text": [
      "\n"
     ]
    },
    {
     "name": "stdout",
     "output_type": "stream",
     "text": [
      "\tmatching peptides to 6FT\n",
      "\tno peptides matched to 6ft\n",
      "\twriting 126 unmatched peptides\n",
      "\tfiles no_match_6ft , no_match_6ft_2 created\n",
      "Search directory created at D:\\Period_6\\out\\1134_MHCII\n",
      "Creating excel file with results\n",
      "search and classification done, file saved at  D:/Period_6/out/1134_MHCII/1134_MHCII_immuno_search_out.xlsx\n"
     ]
    }
   ],
   "source": [
    "file_name = '1134_MHCII'\n",
    "input_file_path = \"im folder/1134_MHCII/\" + file_name + \".xlsx\"\n",
    "MHC_class = '2'\n",
    "gibbs_cluster = []\n",
    "output_file_path = \"D:/Period_6/out/\" + file_name  + \"/\"    # full file path, has to have \"/\" at the end\n",
    "\n",
    "\n",
    "immuno_search(input_file_path, MHC_class, gibbs_cluster, output_file_path, file_name)"
   ]
  },
  {
   "cell_type": "code",
   "execution_count": 5,
   "metadata": {},
   "outputs": [
    {
     "name": "stdout",
     "output_type": "stream",
     "text": [
      "filtering peptides found by DB search\n",
      "Selected gibbs clusters based on input\n",
      "selecting peptides with length between 8 and 11 AA\n",
      "generating lists and files for further analysis\n",
      "\tfiles peptides , peptides_2 created\n",
      "100 peptides being searched for known HLAs\n",
      "\treading output\n",
      "\tall is gud for HLA_blast_out\n",
      "\tgenerating lists and files for further analysis\n",
      "\tknown HLA found\n",
      "\tfiles to_blastp , to_blastp_2 created\n",
      "98 peptides being searched for human canonical proteins\n",
      "\treading output\n",
      "\tall is gud for blastp_out_human_canonical\n",
      "\tfiles to_6ft , to_6ft_2 created\n",
      "\tgenerating lists and files for further analysis\n",
      "\tfiles SAAV , SAAV_2 created\n",
      "2 peptides being searched for Single Amino Acid Variants\n",
      "\treading output\n",
      "\tall is gud for blast_out_SAAV\n",
      "96 peptides being searched in the six frame translated human genome\n"
     ]
    },
    {
     "name": "stderr",
     "output_type": "stream",
     "text": [
      "[INFO]\u001b[0m 96 patterns loaded from file\n"
     ]
    },
    {
     "name": "stdout",
     "output_type": "stream",
     "text": [
      "\twriting 6FT results to dictionary\n",
      "\tnumber of matches from 6FT: 60\n",
      "\tmatching peptides to 6FT\n",
      "\twriting 9 peptide matches to 6FT\n",
      "\twriting 87 unmatched peptides\n",
      "\tfiles no_match_6ft , no_match_6ft_2 created\n",
      "Directory already exists at D:\\Period_6\\out\\1136_E\n",
      "Creating excel file with results\n",
      "search and classification done, file saved at  D:/Period_6/out/1136_E/1136_E_immuno_search_out.xlsx\n"
     ]
    }
   ],
   "source": [
    "file_name = '1136_E'\n",
    "input_file_path = \"im folder/1136_E/\" + file_name + \".xlsx\"\n",
    "MHC_class = '1'\n",
    "gibbs_cluster = [0,1,2]\n",
    "output_file_path = \"D:/Period_6/out/\" + file_name  + \"/\"    # full file path, has to have \"/\" at the end\n",
    "\n",
    "\n",
    "immuno_search(input_file_path, MHC_class, gibbs_cluster, output_file_path, file_name)"
   ]
  },
  {
   "cell_type": "code",
   "execution_count": 14,
   "metadata": {},
   "outputs": [
    {
     "name": "stdout",
     "output_type": "stream",
     "text": [
      "filtering peptides found by DB search\n",
      "Selected gibbs clusters based on input\n",
      "selecting peptides with length between 8 and 11 AA\n",
      "generating lists and files for further analysis\n",
      "\tfiles peptides , peptides_2 created\n",
      "191 peptides being searched for known HLAs\n",
      "\treading output\n",
      "\tall is gud for HLA_blast_out\n",
      "\tgenerating lists and files for further analysis\n",
      "\tknown HLA found\n",
      "\tfiles to_blastp , to_blastp_2 created\n",
      "183 peptides being searched for human canonical proteins\n",
      "\treading output\n",
      "\tall is gud for blastp_out_human_canonical\n",
      "\tfiles to_6ft , to_6ft_2 created\n",
      "\tgenerating lists and files for further analysis\n",
      "\tfiles SAAV , SAAV_2 created\n",
      "10 peptides being searched for Single Amino Acid Variants\n",
      "\treading output\n",
      "\tall is gud for blast_out_SAAV\n",
      "173 peptides being searched in the six frame translated human genome\n"
     ]
    },
    {
     "name": "stderr",
     "output_type": "stream",
     "text": [
      "[INFO]\u001b[0m 173 patterns loaded from file"
     ]
    },
    {
     "name": "stdout",
     "output_type": "stream",
     "text": [
      "\twriting 6FT results to dictionary\n",
      "\tnumber of matches from 6FT: 46\n",
      "\tmatching peptides to 6FT\n",
      "\twriting 7 peptide matches to 6FT\n"
     ]
    },
    {
     "name": "stderr",
     "output_type": "stream",
     "text": [
      "\n"
     ]
    },
    {
     "name": "stdout",
     "output_type": "stream",
     "text": [
      "\twriting 166 unmatched peptides\n",
      "\tfiles no_match_6ft , no_match_6ft_2 created\n",
      "Search directory created at D:\\Period_6\\out\\1136_MHCI\n",
      "Creating excel file with results\n",
      "search and classification done, file saved at  D:/Period_6/out/1136_MHCI/1136_MHCI_immuno_search_out.xlsx\n"
     ]
    }
   ],
   "source": [
    "file_name = '1136_MHCI'\n",
    "input_file_path = \"im folder/1136_MHCI/\" + file_name + \".xlsx\"\n",
    "MHC_class = '1'\n",
    "gibbs_cluster = [0,1,2,4]\n",
    "output_file_path = \"D:/Period_6/out/\" + file_name  + \"/\"    # full file path, has to have \"/\" at the end\n",
    "\n",
    "\n",
    "immuno_search(input_file_path, MHC_class, gibbs_cluster, output_file_path, file_name)"
   ]
  },
  {
   "cell_type": "code",
   "execution_count": 5,
   "metadata": {},
   "outputs": [
    {
     "name": "stdout",
     "output_type": "stream",
     "text": [
      "filtering peptides found by DB search\n",
      "Selecting all gibbs clusters\n",
      "selecting peptides with length between 12 and 17 AA\n",
      "generating lists and files for further analysis\n",
      "\tfiles peptides , peptides_2 created\n",
      "110 peptides being searched for known HLAs\n",
      "\treading output\n",
      "\tall is gud for HLA_blast_out\n",
      "\tgenerating lists and files for further analysis\n",
      "\tknown HLA found\n",
      "\tfiles to_blastp , to_blastp_2 created\n",
      "100 peptides being searched for human canonical proteins\n",
      "\treading output\n",
      "\tall is gud for blastp_out_human_canonical\n",
      "\tfiles to_6ft , to_6ft_2 created\n",
      "\tgenerating lists and files for further analysis\n",
      "\tfiles SAAV , SAAV_2 created\n",
      "3 peptides being searched for Single Amino Acid Variants\n",
      "\treading output\n",
      "\tall is gud for blast_out_SAAV\n",
      "97 peptides being searched in the six frame translated human genome\n"
     ]
    },
    {
     "name": "stderr",
     "output_type": "stream",
     "text": [
      "[INFO]\u001b[0m 97 patterns loaded from file"
     ]
    },
    {
     "name": "stdout",
     "output_type": "stream",
     "text": [
      "\twriting 6FT results to dictionary\n",
      "\tnumber of matches from 6FT: 0\n",
      "\tmatching peptides to 6FT\n",
      "\tno peptides matched to 6ft\n",
      "\twriting 97 unmatched peptides\n",
      "\tfiles no_match_6ft , no_match_6ft_2 created\n"
     ]
    },
    {
     "name": "stderr",
     "output_type": "stream",
     "text": [
      "\n"
     ]
    },
    {
     "name": "stdout",
     "output_type": "stream",
     "text": [
      "Search directory created at D:\\Period_6\\out\\1136_MHCII\n",
      "Creating excel file with results\n",
      "search and classification done, file saved at  D:/Period_6/out/1136_MHCII/1136_MHCII_immuno_search_out.xlsx\n"
     ]
    }
   ],
   "source": [
    "file_name = '1136_MHCII'\n",
    "input_file_path = \"im folder/1136_MHCII/\" + file_name + \".xlsx\"\n",
    "MHC_class = '2'\n",
    "gibbs_cluster = []\n",
    "output_file_path = \"D:/Period_6/out/\" + file_name  + \"/\"    # full file path, has to have \"/\" at the end\n",
    "\n",
    "\n",
    "immuno_search(input_file_path, MHC_class, gibbs_cluster, output_file_path, file_name)"
   ]
  },
  {
   "cell_type": "code",
   "execution_count": 6,
   "metadata": {},
   "outputs": [
    {
     "name": "stdout",
     "output_type": "stream",
     "text": [
      "filtering peptides found by DB search\n",
      "Selecting all gibbs clusters\n",
      "selecting peptides with length between 8 and 15 AA\n",
      "generating lists and files for further analysis\n",
      "\tfiles peptides , peptides_2 created\n",
      "118 peptides being searched for known HLAs\n",
      "\treading output\n",
      "\tall is gud for HLA_blast_out\n",
      "\tgenerating lists and files for further analysis\n",
      "\tknown HLA found\n",
      "\tfiles to_blastp , to_blastp_2 created\n",
      "117 peptides being searched for human canonical proteins\n",
      "\treading output\n",
      "\tall is gud for blastp_out_human_canonical\n",
      "\tfiles to_6ft , to_6ft_2 created\n",
      "\tgenerating lists and files for further analysis\n",
      "\tfiles SAAV , SAAV_2 created\n",
      "8 peptides being searched for Single Amino Acid Variants\n",
      "\treading output\n",
      "\tall is gud for blast_out_SAAV\n",
      "107 peptides being searched in the six frame translated human genome\n"
     ]
    },
    {
     "name": "stderr",
     "output_type": "stream",
     "text": [
      "[INFO]\u001b[0m 107 patterns loaded from file"
     ]
    },
    {
     "name": "stdout",
     "output_type": "stream",
     "text": [
      "\twriting 6FT results to dictionary\n"
     ]
    },
    {
     "name": "stderr",
     "output_type": "stream",
     "text": [
      "\n"
     ]
    },
    {
     "name": "stdout",
     "output_type": "stream",
     "text": [
      "\tnumber of matches from 6FT: 326\n",
      "\tmatching peptides to 6FT\n",
      "\twriting 18 peptide matches to 6FT\n",
      "\twriting 89 unmatched peptides\n",
      "\tfiles no_match_6ft , no_match_6ft_2 created\n",
      "Directory already exists at D:\\Period_6\\out\\1137_E1\n",
      "Creating excel file with results\n",
      "search and classification done, file saved at  D:/Period_6/out/1137_E1/1137_E1_immuno_search_out.xlsx\n"
     ]
    }
   ],
   "source": [
    "file_name = '1137_E1'\n",
    "input_file_path = \"im folder/1137_E1/\" + file_name + \".xlsx\"\n",
    "MHC_class = 'E'\n",
    "gibbs_cluster = []\n",
    "output_file_path = \"D:/Period_6/out/\" + file_name  + \"/\"    # full file path, has to have \"/\" at the end\n",
    "\n",
    "\n",
    "immuno_search(input_file_path, MHC_class, gibbs_cluster, output_file_path, file_name)"
   ]
  },
  {
   "cell_type": "code",
   "execution_count": 7,
   "metadata": {},
   "outputs": [
    {
     "name": "stdout",
     "output_type": "stream",
     "text": [
      "filtering peptides found by DB search\n",
      "Selecting all gibbs clusters\n",
      "selecting peptides with length between 8 and 15 AA\n",
      "generating lists and files for further analysis\n",
      "\tfiles peptides , peptides_2 created\n",
      "126 peptides being searched for known HLAs\n",
      "\treading output\n",
      "\tall is gud for HLA_blast_out\n",
      "\tgenerating lists and files for further analysis\n",
      "\tknown HLA found\n",
      "\tfiles to_blastp , to_blastp_2 created\n",
      "125 peptides being searched for human canonical proteins\n",
      "\treading output\n",
      "\tall is gud for blastp_out_human_canonical\n",
      "\tfiles to_6ft , to_6ft_2 created\n",
      "\tgenerating lists and files for further analysis\n",
      "\tfiles SAAV , SAAV_2 created\n",
      "14 peptides being searched for Single Amino Acid Variants\n",
      "\treading output\n",
      "\tall is gud for blast_out_SAAV\n",
      "110 peptides being searched in the six frame translated human genome\n"
     ]
    },
    {
     "name": "stderr",
     "output_type": "stream",
     "text": [
      "[INFO]\u001b[0m 110 patterns loaded from file\n"
     ]
    },
    {
     "name": "stdout",
     "output_type": "stream",
     "text": [
      "\twriting 6FT results to dictionary\n",
      "\tnumber of matches from 6FT: 488\n",
      "\tmatching peptides to 6FT\n",
      "\twriting 18 peptide matches to 6FT\n",
      "\twriting 92 unmatched peptides\n",
      "\tfiles no_match_6ft , no_match_6ft_2 created\n",
      "Directory already exists at D:\\Period_6\\out\\1137_E2\n",
      "Creating excel file with results\n",
      "search and classification done, file saved at  D:/Period_6/out/1137_E2/1137_E2_immuno_search_out.xlsx\n"
     ]
    }
   ],
   "source": [
    "file_name = '1137_E2'\n",
    "input_file_path = \"im folder/1137_E2/\" + file_name + \".xlsx\"\n",
    "MHC_class = 'E'\n",
    "gibbs_cluster = []\n",
    "output_file_path = \"D:/Period_6/out/\" + file_name  + \"/\"    # full file path, has to have \"/\" at the end\n",
    "\n",
    "\n",
    "immuno_search(input_file_path, MHC_class, gibbs_cluster, output_file_path, file_name)"
   ]
  },
  {
   "cell_type": "code",
   "execution_count": 8,
   "metadata": {},
   "outputs": [
    {
     "name": "stdout",
     "output_type": "stream",
     "text": [
      "filtering peptides found by DB search\n",
      "Selecting all gibbs clusters\n",
      "selecting peptides with length between 8 and 11 AA\n",
      "generating lists and files for further analysis\n",
      "\tfiles peptides , peptides_2 created\n",
      "99 peptides being searched for known HLAs\n",
      "\treading output\n",
      "\tall is gud for HLA_blast_out\n",
      "\tgenerating lists and files for further analysis\n",
      "\tknown HLA found\n",
      "\tfiles to_blastp , to_blastp_2 created\n",
      "98 peptides being searched for human canonical proteins\n",
      "\treading output\n",
      "\tall is gud for blastp_out_human_canonical\n",
      "\tfiles to_6ft , to_6ft_2 created\n",
      "\tgenerating lists and files for further analysis\n",
      "\tfiles SAAV , SAAV_2 created\n",
      "8 peptides being searched for Single Amino Acid Variants\n",
      "\treading output\n",
      "\tall is gud for blast_out_SAAV\n",
      "90 peptides being searched in the six frame translated human genome\n"
     ]
    },
    {
     "name": "stderr",
     "output_type": "stream",
     "text": [
      "[INFO]\u001b[0m 90 patterns loaded from file"
     ]
    },
    {
     "name": "stdout",
     "output_type": "stream",
     "text": [
      "\twriting 6FT results to dictionary\n",
      "\tnumber of matches from 6FT: 152\n",
      "\tmatching peptides to 6FT\n",
      "\twriting 14 peptide matches to 6FT\n",
      "\twriting 76 unmatched peptides\n",
      "\tfiles no_match_6ft , no_match_6ft_2 created\n"
     ]
    },
    {
     "name": "stderr",
     "output_type": "stream",
     "text": [
      "\n"
     ]
    },
    {
     "name": "stdout",
     "output_type": "stream",
     "text": [
      "Search directory created at D:\\Period_6\\out\\1137_MHCI_1\n",
      "Creating excel file with results\n",
      "search and classification done, file saved at  D:/Period_6/out/1137_MHCI_1/1137_MHCI_1_immuno_search_out.xlsx\n"
     ]
    }
   ],
   "source": [
    "file_name = '1137_MHCI_1'\n",
    "input_file_path = \"im folder/1137_MHCI_1/\" + file_name + \".xlsx\"\n",
    "MHC_class = '1'\n",
    "gibbs_cluster = []\n",
    "output_file_path = \"D:/Period_6/out/\" + file_name  + \"/\"    # full file path, has to have \"/\" at the end\n",
    "\n",
    "\n",
    "immuno_search(input_file_path, MHC_class, gibbs_cluster, output_file_path, file_name)"
   ]
  },
  {
   "cell_type": "code",
   "execution_count": 9,
   "metadata": {},
   "outputs": [
    {
     "name": "stdout",
     "output_type": "stream",
     "text": [
      "filtering peptides found by DB search\n",
      "Selected gibbs clusters based on input\n",
      "selecting peptides with length between 8 and 11 AA\n",
      "generating lists and files for further analysis\n",
      "\tfiles peptides , peptides_2 created\n",
      "88 peptides being searched for known HLAs\n",
      "\treading output\n",
      "\tall is gud for HLA_blast_out\n",
      "\tgenerating lists and files for further analysis\n",
      "\tno known HLA found\n",
      "\tfiles to_blastp , to_blastp_2 created\n",
      "88 peptides being searched for human canonical proteins\n",
      "\treading output\n",
      "\tall is gud for blastp_out_human_canonical\n",
      "\tfiles to_6ft , to_6ft_2 created\n",
      "\tgenerating lists and files for further analysis\n",
      "\tfiles SAAV , SAAV_2 created\n",
      "6 peptides being searched for Single Amino Acid Variants\n",
      "\treading output\n",
      "\tall is gud for blast_out_SAAV\n",
      "82 peptides being searched in the six frame translated human genome\n"
     ]
    },
    {
     "name": "stderr",
     "output_type": "stream",
     "text": [
      "[INFO]\u001b[0m 82 patterns loaded from file"
     ]
    },
    {
     "name": "stdout",
     "output_type": "stream",
     "text": [
      "\twriting 6FT results to dictionary\n",
      "\tnumber of matches from 6FT: 72\n"
     ]
    },
    {
     "name": "stderr",
     "output_type": "stream",
     "text": [
      "\n"
     ]
    },
    {
     "name": "stdout",
     "output_type": "stream",
     "text": [
      "\tmatching peptides to 6FT\n",
      "\twriting 11 peptide matches to 6FT\n",
      "\twriting 71 unmatched peptides\n",
      "\tfiles no_match_6ft , no_match_6ft_2 created\n",
      "Search directory created at D:\\Period_6\\out\\1137_MHCI_2\n",
      "Creating excel file with results\n",
      "search and classification done, file saved at  D:/Period_6/out/1137_MHCI_2/1137_MHCI_2_immuno_search_out.xlsx\n"
     ]
    }
   ],
   "source": [
    "file_name = '1137_MHCI_2'\n",
    "input_file_path = \"im folder/1137_MHCI_2/\" + file_name + \".xlsx\"\n",
    "MHC_class = '1'\n",
    "gibbs_cluster = [1,2,3]\n",
    "output_file_path = \"D:/Period_6/out/\" + file_name  + \"/\"    # full file path, has to have \"/\" at the end\n",
    "\n",
    "\n",
    "immuno_search(input_file_path, MHC_class, gibbs_cluster, output_file_path, file_name)"
   ]
  },
  {
   "cell_type": "code",
   "execution_count": 10,
   "metadata": {},
   "outputs": [
    {
     "name": "stdout",
     "output_type": "stream",
     "text": [
      "filtering peptides found by DB search\n",
      "Selecting all gibbs clusters\n",
      "selecting peptides with length between 12 and 17 AA\n",
      "generating lists and files for further analysis\n",
      "\tfiles peptides , peptides_2 created\n",
      "4 peptides being searched for known HLAs\n",
      "\treading output\n",
      "\tall is gud for HLA_blast_out\n",
      "\tgenerating lists and files for further analysis\n",
      "\tno known HLA found\n",
      "\tfiles to_blastp , to_blastp_2 created\n",
      "4 peptides being searched for human canonical proteins\n",
      "\treading output\n",
      "\tall is gud for blastp_out_human_canonical\n",
      "\tfiles to_6ft , to_6ft_2 created\n",
      "\tgenerating lists and files for further analysis\n",
      "\tfiles SAAV , SAAV_2 created\n",
      "1 peptide being searched for Single Amino Acid Variants\n",
      "\treading output\n",
      "\tall is gud for blast_out_SAAV\n",
      "3 peptides being searched in the six frame translated human genome\n"
     ]
    },
    {
     "name": "stderr",
     "output_type": "stream",
     "text": [
      "[INFO]\u001b[0m 3 patterns loaded from file\n"
     ]
    },
    {
     "name": "stdout",
     "output_type": "stream",
     "text": [
      "\twriting 6FT results to dictionary\n",
      "\tnumber of matches from 6FT: 0\n",
      "\tmatching peptides to 6FT\n",
      "\tno peptides matched to 6ft\n",
      "\twriting 3 unmatched peptides\n",
      "\tfiles no_match_6ft , no_match_6ft_2 created\n",
      "Search directory created at D:\\Period_6\\out\\1137_MHCII_1\n",
      "Creating excel file with results\n",
      "search and classification done, file saved at  D:/Period_6/out/1137_MHCII_1/1137_MHCII_1_immuno_search_out.xlsx\n"
     ]
    }
   ],
   "source": [
    "file_name = '1137_MHCII_1'\n",
    "input_file_path = \"im folder/1137_MHCII_C2/\" + file_name + \".xlsx\"\n",
    "MHC_class = '2'\n",
    "gibbs_cluster = []\n",
    "output_file_path = \"D:/Period_6/out/\" + file_name  + \"/\"    # full file path, has to have \"/\" at the end\n",
    "\n",
    "\n",
    "immuno_search(input_file_path, MHC_class, gibbs_cluster, output_file_path, file_name)"
   ]
  },
  {
   "cell_type": "code",
   "execution_count": 4,
   "metadata": {},
   "outputs": [
    {
     "name": "stdout",
     "output_type": "stream",
     "text": [
      "filtering peptides found by DB search\n",
      "Selecting all gibbs clusters\n",
      "selecting peptides with length between 12 and 17 AA\n",
      "generating lists and files for further analysis\n",
      "\tfiles peptides , peptides_2 created\n",
      "1 peptide being searched for known HLAs\n",
      "\treading output\n",
      "\tall is gud for HLA_blast_out\n",
      "\tgenerating lists and files for further analysis\n",
      "\tno known HLA found\n",
      "\tfiles to_blastp , to_blastp_2 created\n",
      "1 peptide being searched for human canonical proteins\n",
      "\treading output\n",
      "\tall is gud for blastp_out_human_canonical\n",
      "\tfiles to_6ft , to_6ft_2 created\n",
      "\tgenerating lists and files for further analysis\n",
      "no potential SAAVs, proceeding to 6FT search\n",
      "1 peptide being searched in the six frame translated human genome\n",
      "no match to 6FT\n",
      "No significant peptides found\n"
     ]
    },
    {
     "name": "stderr",
     "output_type": "stream",
     "text": [
      "The process cannot access the file because it is being used by another process.\n"
     ]
    }
   ],
   "source": [
    "file_name = '1137_MHCII_2'\n",
    "input_file_path = \"im folder/1137_MHCII_D2/\" + file_name + \".xlsx\"\n",
    "MHC_class = '2'\n",
    "gibbs_cluster = []\n",
    "output_file_path = \"D:/Period_6/out/\" + file_name  + \"/\"    # full file path, has to have \"/\" at the end\n",
    "\n",
    "\n",
    "immuno_search(input_file_path, MHC_class, gibbs_cluster, output_file_path, file_name)"
   ]
  }
 ],
 "metadata": {
  "kernelspec": {
   "display_name": "cb2030-labs-environment-windows",
   "language": "python",
   "name": "python3"
  },
  "language_info": {
   "codemirror_mode": {
    "name": "ipython",
    "version": 3
   },
   "file_extension": ".py",
   "mimetype": "text/x-python",
   "name": "python",
   "nbconvert_exporter": "python",
   "pygments_lexer": "ipython3",
   "version": "3.12.4"
  }
 },
 "nbformat": 4,
 "nbformat_minor": 2
}
