{
 "cells": [
  {
   "cell_type": "code",
   "execution_count": 1,
   "metadata": {},
   "outputs": [],
   "source": [
    "import pandas as pd\n",
    "import numpy as np\n",
    "import csv\n",
    "import sys\n",
    "import getopt\n",
    "from Bio import SeqIO\n",
    "import re\n",
    "import os"
   ]
  },
  {
   "cell_type": "code",
   "execution_count": 2,
   "metadata": {},
   "outputs": [],
   "source": [
    "# peptide length 8-11, removing gibbs junk and DB matched\n",
    "data = pd.read_csv('CSV\\\\1130_MHCI_1.csv')\n",
    "gibbs = pd.read_csv('CSV\\\\1130_MHCI_1_Gibbs.csv')\n",
    "data = data[data[\"Found By\"] != 'DB Search']\n",
    "gibbs = gibbs[gibbs[\"Gn\"].isin([0,2,3])]\n",
    "gibbs = gibbs[gibbs[\"Sequence\"].str.len().between(8,11)]\n",
    "data = data[data[\"Peptide\"].isin(gibbs[\"Sequence\"])]\n",
    "#data.to_csv('CSV\\\\non_can.csv')\n",
    "list = data[\"Peptide\"] # list of peptides\n",
    "pep = list.tolist()"
   ]
  },
  {
   "cell_type": "code",
   "execution_count": 66,
   "metadata": {},
   "outputs": [],
   "source": [
    "#fn for creating files from a list and file_name\n",
    "def create_files(pep, file_name):\n",
    "\n",
    "    ofile = open(file_name + \".fasta\", \"w\")\n",
    "\n",
    "    for i in range(len(pep)):\n",
    "        ofile.write('>' + '\\n' + pep[i] + '\\n')\n",
    "    ofile.close()\n",
    "\n",
    "    # peptide list for parsing\n",
    "    ofile = open(file_name + '_2.fasta', \"w\")\n",
    "\n",
    "    for i in range(len(pep)):\n",
    "        ofile.write(pep[i] + '\\n')\n",
    "    ofile.close()\n",
    "    \n",
    "    return"
   ]
  },
  {
   "cell_type": "code",
   "execution_count": 57,
   "metadata": {},
   "outputs": [
    {
     "data": {
      "text/plain": [
       "'c:\\\\Users\\\\rishy\\\\OneDrive\\\\KTH\\\\Thesis\\\\Immunopeptidomics'"
      ]
     },
     "execution_count": 57,
     "metadata": {},
     "output_type": "execute_result"
    }
   ],
   "source": [
    "pwd"
   ]
  },
  {
   "cell_type": "code",
   "execution_count": null,
   "metadata": {
    "vscode": {
     "languageId": "shellscript"
    }
   },
   "outputs": [],
   "source": [
    "#make databse from known HLA peptides fasta file\n",
    "!makeblastdb -in db/APD_Hs_all.fasta -dbtype prot -out db/APD_Hs_all"
   ]
  },
  {
   "cell_type": "code",
   "execution_count": null,
   "metadata": {
    "vscode": {
     "languageId": "shellscript"
    }
   },
   "outputs": [],
   "source": [
    "#blast against canonical HLA peptides\n",
    "!blastp -task blastp-short -query fasta.fasta -db db/APD_Hs_all -out HLA_blast_out -evalue 10.0 -outfmt \"6 qseqid saccver pident qlen mismatch qstart qend sstart send evalue bitscore gaps qseq sseq\""
   ]
  },
  {
   "cell_type": "code",
   "execution_count": null,
   "metadata": {},
   "outputs": [],
   "source": [
    "#parsing and catergorizing HLA_blast output\n",
    "parse_categorize('db/APD_Hs_all.fasta', 'HLA_blast_out', 'fasta_2.fasta')"
   ]
  },
  {
   "cell_type": "code",
   "execution_count": 111,
   "metadata": {},
   "outputs": [],
   "source": [
    "#known HLA\n",
    "output_HLA = pd.read_table('categorized_HLA_blast_out')\n",
    "known = output_HLA[output_HLA[\"blastp_category\"] == 'match to known protein']\n",
    "list = known[\"Query\"] \n",
    "pep = list.to_list()\n",
    "\n",
    "ofile = open(\"known_HLA.fasta\", \"w\")\n",
    "\n",
    "for i in range(len(pep)):\n",
    "    ofile.write('>' + '\\n' + pep[i] + '\\n')\n",
    "ofile.close()\n",
    "\n",
    "known = output_HLA[output_HLA[\"blastp_category\"] != 'match to known protein']\n",
    "list = known[\"Query\"] \n",
    "pep = list.to_list()\n",
    "create_files(pep, 'to_blastp')"
   ]
  },
  {
   "cell_type": "code",
   "execution_count": null,
   "metadata": {},
   "outputs": [],
   "source": [
    "#make blast database from fasta\n",
    "!makeblastdb -in db/human_canonical.fasta  -dbtype prot -parse_seqids -out db/human_canonical"
   ]
  },
  {
   "cell_type": "code",
   "execution_count": 67,
   "metadata": {},
   "outputs": [
    {
     "name": "stdout",
     "output_type": "stream",
     "text": [
      "^C\n"
     ]
    }
   ],
   "source": [
    "#blast all proteins against human canonical proteins\n",
    "!blastp -task blastp-short -query to_blastp.fasta -db db/human_canonical -out blastp_out_human_canonical -evalue 10.0 -outfmt \"6 qseqid sseqid pident qlen mismatch qstart qend sstart send evalue bitscore gaps qseq sseq\""
   ]
  },
  {
   "cell_type": "code",
   "execution_count": 112,
   "metadata": {},
   "outputs": [],
   "source": [
    "#fn for parsing and categorizing blast output\n",
    "def parse_categorize(database_fasta, blast_out, fasta2): #requires inputs with file extension; fasta2 - file list without fasta header \">\"\n",
    "\n",
    "    input1= SeqIO.parse(database_fasta,\"fasta\") # blastp reference database\n",
    "    seqdb={}\n",
    "    for record in input1:\n",
    "        seq=str(record.seq)\n",
    "        if record.id not in seqdb:\n",
    "            seqdb[record.id]=seq\n",
    "\n",
    "    input2= open(blast_out,\"r\") # blastp output\n",
    "    input3= open(fasta2,\"r\") # novel peptide tab txt\n",
    "    output= open('categorized_' + blast_out,\"w\")\n",
    "\n",
    "\n",
    "    blastout={}\n",
    "    hits_dic={}\n",
    "    for line in input2:\n",
    "        row=line.strip().split(\"\\t\")\n",
    "        qid=row[-2]\n",
    "        sid=row[1]\n",
    "        sseq=seqdb[sid]\n",
    "        ident=row[2]\n",
    "        peplen=int(row[3])\n",
    "        mismatch=row[4]\n",
    "        alignlen=int(row[6])-int(row[5])+1\n",
    "        sstart=int(row[7])\n",
    "        send=int(row[8])\n",
    "        gap=row[11]\n",
    "        evalue=float(row[-5])\n",
    "        alignseq=row[-1]\n",
    "        category=\"NA\"\n",
    "        single_sub_pos=\"NA\"\n",
    "        if sstart>3:\n",
    "            Nterm_seq=sseq[sstart-4:sstart+2] #check up 3 amino acid before N-term of this peptide\n",
    "        else:\n",
    "            Nterm_seq=sseq[:sstart]\n",
    "\n",
    "        if len(sseq)-send<3:\n",
    "            Cterm_seq=sseq[send-1:]\n",
    "        else:\n",
    "            Cterm_seq=sseq[send-3:send+3]\n",
    "\n",
    "        if alignlen==peplen:\n",
    "            if float(ident)==100:\n",
    "                category=\"match to known protein\"\n",
    "            \n",
    "            elif int(gap)==0 and int(mismatch)==1:\n",
    "                category=\"map to known protein with 1 aa mismatch\"\n",
    "                for i in range(peplen):\n",
    "                    if qid[i]!=alignseq[i]:\n",
    "                        single_sub_pos=str(i+1)\n",
    "\n",
    "            elif int(gap)==1 and int(mismatch)==0:\n",
    "                category=\"map to known protein with 1 aa insertion\"\n",
    "            else:\n",
    "                category=\"novelpep (map to known protein with more than 2 mismatched aa)\"\n",
    "        elif peplen-alignlen==1 and float(ident)==100:\n",
    "            category=\"map to known protein with 1 aa deletion\"\n",
    "\n",
    "        else:\n",
    "            category=\"novelpep (map to known protein with more than 2 mismatched aa)\"\n",
    "        \n",
    "        if qid not in hits_dic:\n",
    "            hits_dic[qid]=evalue\n",
    "            blastout[qid]=[category,sid,ident,peplen,single_sub_pos,Nterm_seq,alignseq,Cterm_seq,alignlen,mismatch,gap]\n",
    "        else:\n",
    "            if evalue<hits_dic[qid]:\n",
    "                hits_dic[qid]=evalue\n",
    "                blastout[qid]=[category,sid,ident,peplen,single_sub_pos,Nterm_seq,alignseq,Cterm_seq,alignlen,mismatch,gap]\n",
    "\n",
    "    #header=input3.readline().strip().split(\"\\t\")\n",
    "\n",
    "    header=[\"Query\",\"blastp_category\",\"blastp_match\",\"identity\",\"peplen\",\"sub_pos\",\"Nterm-seq(3aa)\",\"aligned_seq\",\"Cterm-seq(3aa)\",\"alignlen\",\"mismatch\",\"gap\"]\n",
    "    output.write(\"\\t\".join(header)+\"\\n\")\n",
    "\n",
    "    for line in input3:\n",
    "        row=line.strip().split(\"\\t\")\n",
    "        peptide=row[0]\n",
    "        if peptide in blastout:\n",
    "            results=blastout[row[0]]\n",
    "            newrow=row+results\n",
    "            output.write(\"\\t\".join(map(str,newrow))+\"\\n\")\n",
    "        else:\n",
    "            newrow=row+[\"novelpep (no match to known protein found)\",\"NA\",\"NA\",\"NA\",\"NA\",\"NA\",\"NA\",\"NA\",\"NA\",\"NA\",\"NA\"]\n",
    "            output.write(\"\\t\".join(map(str,newrow))+\"\\n\")\n",
    "\n",
    "\n",
    "    input2.close()\n",
    "    input3.close()\n",
    "    output.close()\n",
    "   \n",
    "    #adding headers to the novel blast output\n",
    "    header_names = [\"qseqid\", \"sseqid\", \"pident\", \"qlen\", \"mismatch\", \"qstart\", \"qend\", \"sstart\", \"send\", \"evalue\", \"bitscore\", \"gaps\", \"qseq\", \"sseq\"]\n",
    "    novel_file = pd.read_table('categorized_' + blast_out, sep ='\\t', names = header_names)\n",
    "    header_names = [\"qseqid\", \"sseqid\", \"pident\", \"qlen\", \"mismatch\", \"qstart\", \"qend\", \"sstart\", \"send\", \"evalue\", \"bitscore\", \"gaps\", \"qseq\", \"sseq\"]\n",
    "    blast_file = pd.read_table(blast_out, sep ='\\t', names = header_names)\n",
    "    blast_file\n",
    "    #to check if any keys are missing in the dictionary seqdb[]\n",
    "    missing = blast_file[~blast_file[\"sseqid\"].isin(seqdb.keys())]\n",
    "    if (len(missing) == 0):\n",
    "        return 'all is gud maan'"
   ]
  },
  {
   "cell_type": "code",
   "execution_count": null,
   "metadata": {},
   "outputs": [],
   "source": [
    "count = 0 #checikng seqdb\n",
    "for key, value in seqdb.items():\n",
    "    print(key, \":\", value)\n",
    "    count += 1\n",
    "    if count == 50:\n",
    "        break"
   ]
  },
  {
   "cell_type": "code",
   "execution_count": 114,
   "metadata": {},
   "outputs": [
    {
     "data": {
      "text/plain": [
       "'all is gud maan'"
      ]
     },
     "execution_count": 114,
     "metadata": {},
     "output_type": "execute_result"
    }
   ],
   "source": [
    "parse_categorize('db/human_canonical.fasta', 'blastp_out_human_canonical', 'to_blastp_2.fasta')"
   ]
  },
  {
   "cell_type": "code",
   "execution_count": 117,
   "metadata": {},
   "outputs": [],
   "source": [
    "#preparing fasta files of proteins with 1 AA mismatch\n",
    "output  = pd.read_table('categorized_blastp_out_human_canonical')\n",
    "mismatched = output[output[\"blastp_category\"] == 'map to known protein with 1 aa mismatch']\n",
    "list = mismatched[\"Query\"] \n",
    "pep = list.to_list()\n",
    "\n",
    "create_files(pep,'SAAV')"
   ]
  },
  {
   "cell_type": "code",
   "execution_count": 118,
   "metadata": {},
   "outputs": [],
   "source": [
    "#preparing fasta files of proteins to search 6FT database\n",
    "to_6ft = output[(output[\"blastp_category\"] != 'map to known protein with 1 aa mismatch') & (output[\"blastp_category\"] != 'match to known protein')]\n",
    "list = to_6ft[\"Query\"] \n",
    "pep = list.to_list()\n",
    "\n",
    "create_files(pep, 'to_6ft')"
   ]
  },
  {
   "cell_type": "code",
   "execution_count": 125,
   "metadata": {},
   "outputs": [
    {
     "name": "stderr",
     "output_type": "stream",
     "text": [
      "USAGE\n",
      "  blastp [-h] [-help] [-import_search_strategy filename]\n",
      "    [-export_search_strategy filename] [-task task_name] [-db database_name]\n",
      "    [-dbsize num_letters] [-gilist filename] [-seqidlist filename]\n",
      "    [-negative_gilist filename] [-negative_seqidlist filename]\n",
      "    [-taxids taxids] [-negative_taxids taxids] [-taxidlist filename]\n",
      "    [-negative_taxidlist filename] [-no_taxid_expansion] [-ipglist filename]\n",
      "    [-negative_ipglist filename] [-entrez_query entrez_query]\n",
      "    [-db_soft_mask filtering_algorithm] [-db_hard_mask filtering_algorithm]\n",
      "    [-subject subject_input_file] [-subject_loc range] [-query input_file]\n",
      "    [-out output_file] [-evalue evalue] [-word_size int_value]\n",
      "    [-gapopen open_penalty] [-gapextend extend_penalty]\n",
      "    [-qcov_hsp_perc float_value] [-max_hsps int_value]\n",
      "    [-xdrop_ungap float_value] [-xdrop_gap float_value]\n",
      "    [-xdrop_gap_final float_value] [-searchsp int_value] [-seg SEG_options]\n",
      "    [-soft_masking soft_masking] [-matrix matrix_name]\n",
      "    [-threshold float_value] [-culling_limit int_value]\n",
      "    [-best_hit_overhang float_value] [-best_hit_score_edge float_value]\n",
      "    [-subject_besthit] [-window_size int_value] [-lcase_masking]\n",
      "    [-query_loc range] [-parse_deflines] [-outfmt format] [-show_gis]\n",
      "    [-num_descriptions int_value] [-num_alignments int_value]\n",
      "    [-line_length line_length] [-html] [-sorthits sort_hits]\n",
      "    [-sorthsps sort_hsps] [-max_target_seqs num_sequences]\n",
      "    [-num_threads int_value] [-mt_mode int_value] [-ungapped] [-remote]\n",
      "    [-comp_based_stats compo] [-use_sw_tback] [-version]\n",
      "\n",
      "DESCRIPTION\n",
      "   Protein-Protein BLAST 2.15.0+\n",
      "\n",
      "Use '-help' to print detailed descriptions of command line arguments\n",
      "========================================================================\n",
      "\n",
      "Error: Too many positional arguments (1), the offending value: 6/db/sap_db\n",
      "Error:  (CArgException::eSynopsis) Too many positional arguments (1), the offending value: 6/db/sap_db\n"
     ]
    }
   ],
   "source": [
    "#blastp against SAAV\n",
    "!blastp -task blastp-short -query SAAV.fasta -db /mnt/d/Period 6/db/sap_db -out blastp_out_SAAV -evalue 10.0 -outfmt \"6 qseqid saccver pident qlen mismatch qstart qend sstart send evalue bitscore gaps qseq sseq\""
   ]
  }
 ],
 "metadata": {
  "kernelspec": {
   "display_name": "cb2030-labs-environment-windows",
   "language": "python",
   "name": "python3"
  },
  "language_info": {
   "codemirror_mode": {
    "name": "ipython",
    "version": 3
   },
   "file_extension": ".py",
   "mimetype": "text/x-python",
   "name": "python",
   "nbconvert_exporter": "python",
   "pygments_lexer": "ipython3",
   "version": "3.12.2"
  }
 },
 "nbformat": 4,
 "nbformat_minor": 2
}
